{
 "cells": [
  {
   "cell_type": "markdown",
   "metadata": {},
   "source": [
    "Exercise 1: Find the remainder\n",
    "---"
   ]
  },
  {
   "cell_type": "markdown",
   "metadata": {},
   "source": [
    "$9^{794} \\mod 73$\n",
    "---\n",
    "---"
   ]
  },
  {
   "cell_type": "markdown",
   "metadata": {},
   "source": [
    "$9^{72} \\equiv 1 \\mod 73$"
   ]
  },
  {
   "cell_type": "code",
   "execution_count": 7,
   "metadata": {},
   "outputs": [
    {
     "data": {
      "text/plain": [
       "2"
      ]
     },
     "metadata": {},
     "output_type": "display_data"
    }
   ],
   "source": [
    "794%72"
   ]
  },
  {
   "cell_type": "markdown",
   "metadata": {},
   "source": [
    "$81 \\mod 73$"
   ]
  },
  {
   "cell_type": "markdown",
   "metadata": {},
   "source": [
    "the answer is 8"
   ]
  },
  {
   "cell_type": "markdown",
   "metadata": {},
   "source": [
    "$3^{31} \\mod 7$\n",
    "---\n",
    "---"
   ]
  },
  {
   "cell_type": "markdown",
   "metadata": {},
   "source": [
    "$3^{6} \\equiv 1 \\mod 7$"
   ]
  },
  {
   "cell_type": "markdown",
   "metadata": {},
   "source": [
    "$3 \\mod 7$"
   ]
  },
  {
   "cell_type": "markdown",
   "metadata": {},
   "source": [
    "the answer is 3"
   ]
  },
  {
   "cell_type": "markdown",
   "metadata": {},
   "source": [
    "$128^{129} \\mod 17$\n",
    "---\n",
    "---"
   ]
  },
  {
   "cell_type": "markdown",
   "metadata": {},
   "source": [
    "$128^{16} \\equiv 1 \\mod 17$"
   ]
  },
  {
   "cell_type": "markdown",
   "metadata": {},
   "source": [
    "$128 \\mod 17$"
   ]
  },
  {
   "cell_type": "markdown",
   "metadata": {},
   "source": [
    "$128^{129} \\equiv 9 \\mod 17$"
   ]
  },
  {
   "cell_type": "markdown",
   "metadata": {},
   "source": [
    "$2^{30}+ 2^{30}+ 4^{30} +5^{30} + 6^{30}\\mod 7$\n",
    "---\n",
    "---"
   ]
  },
  {
   "cell_type": "markdown",
   "metadata": {},
   "source": [
    "same as before"
   ]
  },
  {
   "cell_type": "markdown",
   "metadata": {},
   "source": [
    "$2^{6}+ 2^{6}+ 4^{6} +5^{6} + 6^{6} \\equiv 1 \\mod 7$"
   ]
  },
  {
   "cell_type": "markdown",
   "metadata": {},
   "source": [
    "so this will simplify to "
   ]
  },
  {
   "cell_type": "markdown",
   "metadata": {},
   "source": [
    "$2^{0}+ 2^{0}+ 4^{0} +5^{0} + 6^{0}\\mod 7$"
   ]
  },
  {
   "cell_type": "markdown",
   "metadata": {},
   "source": [
    "$1+ 1+ 1 +1 + 1\\mod 7$"
   ]
  },
  {
   "cell_type": "markdown",
   "metadata": {},
   "source": [
    "$2^{30}+ 2^{30}+ 4^{30} +5^{30} + 6^{30} \\equiv 5 \\mod 7$"
   ]
  },
  {
   "cell_type": "markdown",
   "metadata": {},
   "source": [
    "$29^{198} \\mod 20 $\n",
    "---\n",
    "---"
   ]
  },
  {
   "cell_type": "markdown",
   "metadata": {},
   "source": [
    "20 is not a prime number so we need to use phi(20)\n"
   ]
  },
  {
   "cell_type": "markdown",
   "metadata": {},
   "source": [
    "$29^{\\phi(20)}\\equiv 1 \\mod 20 $"
   ]
  },
  {
   "cell_type": "markdown",
   "metadata": {},
   "source": [
    "$P = {2, 3, 5, 7, 11, 13, 17, 19, 23,...}$<br>\n",
    "$\\phi(20) = 20(1-\\frac{1}{2})(1-\\frac{1}{5}) = 8$"
   ]
  },
  {
   "cell_type": "markdown",
   "metadata": {},
   "source": [
    "$29^{8}\\equiv 1 \\mod 20 $"
   ]
  },
  {
   "cell_type": "markdown",
   "metadata": {},
   "source": [
    "$198 \\mod 8 = 6 $"
   ]
  },
  {
   "cell_type": "markdown",
   "metadata": {},
   "source": [
    "we now have a more usable form"
   ]
  },
  {
   "cell_type": "markdown",
   "metadata": {},
   "source": [
    "$29^{6} \\mod 20 $"
   ]
  },
  {
   "cell_type": "markdown",
   "metadata": {},
   "source": [
    "we can simp the base by taking $29 \\mod 20 = 9$"
   ]
  },
  {
   "cell_type": "markdown",
   "metadata": {},
   "source": [
    "$9^{6} \\mod 20  = 1$"
   ]
  },
  {
   "cell_type": "markdown",
   "metadata": {},
   "source": [
    "$29^{198} \\equiv 1 \\mod 20 $"
   ]
  },
  {
   "cell_type": "markdown",
   "metadata": {},
   "source": [
    "$29^{1000} \\mod 14 $\n",
    "---\n",
    "---"
   ]
  },
  {
   "cell_type": "markdown",
   "metadata": {},
   "source": [
    "same as above\n",
    "we need to evaluate $\\phi(14) = 12$"
   ]
  },
  {
   "cell_type": "markdown",
   "metadata": {},
   "source": [
    "$29^{12} \\equiv 1 \\mod 14$"
   ]
  },
  {
   "cell_type": "markdown",
   "metadata": {},
   "source": [
    "$1000 \\mod 12 = 4$"
   ]
  },
  {
   "cell_type": "markdown",
   "metadata": {},
   "source": [
    "$29^{4} \\mod 14 = 1$"
   ]
  },
  {
   "cell_type": "markdown",
   "metadata": {},
   "source": [
    "Exercise 2: \n",
    "---"
   ]
  },
  {
   "cell_type": "markdown",
   "metadata": {},
   "source": [
    "$x^{86} \\equiv 6 \\mod 29$\n",
    "---"
   ]
  },
  {
   "cell_type": "markdown",
   "metadata": {},
   "source": [
    "using phi we get that the number of co prime numbers of 29 is 28 we can use this to pull out the part of the number that will be congruent with 1"
   ]
  },
  {
   "cell_type": "markdown",
   "metadata": {},
   "source": [
    "$x^{28} \\equiv 1 \\mod 29$"
   ]
  },
  {
   "cell_type": "markdown",
   "metadata": {},
   "source": [
    "$86\\mod 28 = 2$"
   ]
  },
  {
   "cell_type": "markdown",
   "metadata": {},
   "source": [
    "$x^{2} \\equiv 6 \\mod 29$"
   ]
  },
  {
   "cell_type": "code",
   "execution_count": 46,
   "metadata": {},
   "outputs": [
    {
     "data": {
      "text/plain": [
       "6"
      ]
     },
     "metadata": {},
     "output_type": "display_data"
    }
   ],
   "source": [
    "(8^2) % 29"
   ]
  },
  {
   "cell_type": "markdown",
   "metadata": {},
   "source": [
    "x = 8"
   ]
  },
  {
   "cell_type": "markdown",
   "metadata": {},
   "source": [
    "$x^{39} \\equiv 3 \\mod 13$\n",
    "---"
   ]
  },
  {
   "cell_type": "markdown",
   "metadata": {},
   "source": [
    "using phi we get that the number of co prime numbers of 13 is 12 we can use this to pull out the part of the number that will be congruent with 1"
   ]
  },
  {
   "cell_type": "markdown",
   "metadata": {},
   "source": [
    "$\\phi(13)=12$"
   ]
  },
  {
   "cell_type": "markdown",
   "metadata": {},
   "source": [
    "$39 \\mod \\phi(13) = 3$"
   ]
  },
  {
   "cell_type": "markdown",
   "metadata": {},
   "source": [
    "then we get $x^{3} \\equiv 3 \\mod 13$"
   ]
  },
  {
   "cell_type": "markdown",
   "metadata": {},
   "source": [
    "this has no solution<br>\n",
    "\n",
    "\n"
   ]
  },
  {
   "cell_type": "markdown",
   "metadata": {},
   "source": [
    "because if we check from where $0 < x^3 < 14$ we get all base cases and a solution dose not exist<br>\n",
    "$ 1^3 \\mod 13 = 1 $<br>\n",
    "$ 2^3 \\mod 13 = 8 $<br>\n",
    "$ 3^3 \\mod 13 = 1 $<br>\n",
    "$ 4^3 \\mod 13 = 12 $<br>\n",
    "$ 5^3 \\mod 13 = 8 $<br>\n",
    "$ 6^3 \\mod 13 = 8 $<br>\n",
    "$ 7^3 \\mod 13 = 5 $<br>\n",
    "$ 8^3 \\mod 13 = 5 $<br>\n",
    "$ 9^3 \\mod 13 = 1 $<br>\n",
    "$ 10^3 \\mod 13 = 12 $<br>\n",
    "$ 11^3 \\mod 13 = 5 $<br>\n",
    "$ 12^3 \\mod 13 = 12 $<br>\n",
    "$ 13^3 \\mod 13 = 0 $<br>"
   ]
  },
  {
   "cell_type": "markdown",
   "metadata": {},
   "source": [
    "for my ta(is there an better way of telling if a equation dose not have a solution)"
   ]
  },
  {
   "cell_type": "markdown",
   "metadata": {},
   "source": [
    "$x^{103} \\equiv 4 \\mod 11$\n",
    "---"
   ]
  },
  {
   "cell_type": "markdown",
   "metadata": {},
   "source": [
    "$\\phi(11) = 10$"
   ]
  },
  {
   "cell_type": "markdown",
   "metadata": {},
   "source": [
    "$103 \\equiv 3 \\mod \\phi(11)$<br>\n",
    "$x^{3} \\equiv 4 \\mod 11$"
   ]
  },
  {
   "cell_type": "markdown",
   "metadata": {},
   "source": [
    "$ 1^3 \\mod 11 = 1 $<br>\n",
    "$ 2^3 \\mod 11 = 8 $<br>\n",
    "$ 3^3 \\mod 11 = 5 $<br>\n",
    "$ 4^3 \\mod 11 = 9 $<br>\n",
    "$ 5^3 \\mod 11 = 4 $<br>\n",
    "$ 6^3 \\mod 11 = 7 $<br>\n",
    "$ 7^3 \\mod 11 = 2 $<br>\n",
    "$ 8^3 \\mod 11 = 6 $<br>\n",
    "$ 9^3 \\mod 11 = 3 $<br>\n",
    "$ 10^3 \\mod 11 = 10 $<br>\n",
    "$ 11^3 \\mod 11 = 0 $<br>"
   ]
  },
  {
   "cell_type": "markdown",
   "metadata": {},
   "source": [
    "the answer is $x=5 $"
   ]
  },
  {
   "cell_type": "markdown",
   "metadata": {},
   "source": [
    "$x^{13} \\equiv 2 \\mod 23$\n",
    "---"
   ]
  },
  {
   "cell_type": "markdown",
   "metadata": {},
   "source": [
    "$\\phi(23)=22$"
   ]
  },
  {
   "cell_type": "markdown",
   "metadata": {},
   "source": [
    "nothing can be simplified"
   ]
  },
  {
   "cell_type": "markdown",
   "metadata": {},
   "source": [
    "$ 1^{13} \\mod 23 = 1 $<br>\n",
    "$ 2^{13} \\mod 23 = 4 $<br>\n",
    "$ 3^{13} \\mod 23 = 9 $<br>\n",
    "$ 4^{13} \\mod 23 = 16 $<br>\n",
    "$ 5^{13} \\mod 23 = 21 $<br>\n",
    "$ 6^{13} \\mod 23 = 13 $<br>\n",
    "$ 7^{13} \\mod 23 = 20 $<br>\n",
    "$ 8^{13} \\mod 23 = 18 $<br>\n",
    "$ 9^{13} \\mod 23 = 12 $<br>\n",
    "$ 10^{13} \\mod 23 = 15 $<br>\n",
    "$ 11^{13} \\mod 23 = 17 $<br>\n",
    "$ 12^{13} \\mod 23 = 6 $<br>\n",
    "$ 13^{13} \\mod 23 = 8 $<br>\n",
    "$ 14^{13} \\mod 23 = 11 $<br>\n",
    "$ 15^{13} \\mod 23 = 5 $<br>\n",
    "$ 16^{13} \\mod 23 = 3 $<br>\n",
    "$ 17^{13} \\mod 23 = 10 $<br>\n",
    "$ 18^{13} \\mod 23 = 2 $<br>\n",
    "$ 19^{13} \\mod 23 = 7 $<br>\n",
    "$ 20^{13} \\mod 23 = 14 $<br>\n",
    "$ 21^{13} \\mod 23 = 19 $<br>\n",
    "$ 22^{13} \\mod 23 = 22 $<br>\n",
    "$ 23^{13} \\mod 23 = 0 $<br>"
   ]
  },
  {
   "cell_type": "markdown",
   "metadata": {},
   "source": [
    "the answer is x=18"
   ]
  },
  {
   "cell_type": "markdown",
   "metadata": {},
   "source": [
    "Exercise 3: \n",
    "---"
   ]
  },
  {
   "cell_type": "markdown",
   "metadata": {},
   "source": [
    "Suppose that p and q are distinct primes. We have:<br>\n",
    "$A^{Q} \\equiv A \\mod P$ <br>\n",
    "$A^{P} \\equiv A \\mod Q$ <br>\n",
    "prove that: $A^{PQ} \\equiv A \\mod PQ$ <br>\n",
    "$A^{P-1} \\equiv 1 \\mod p$ <br>\n",
    "$ A^{PQ} \\equiv  A^{P}  \\equiv A \\mod Q$ <br>\n",
    "$ A^{PQ} \\equiv  A^{Q}  \\equiv A \\mod P$ <br>\n",
    "Since \\(p\\) and \\(q\\) are distinct primes, they are coprime. Therefore, <br>\n",
    "by the Chinese Remainder Theorem, there exists a unique solution modulo \\(PQ\\) to the system of congruences. "
   ]
  },
  {
   "cell_type": "markdown",
   "metadata": {},
   "source": [
    "Exercise 4: \n",
    "---"
   ]
  },
  {
   "cell_type": "markdown",
   "metadata": {},
   "source": [
    "Let p is a prime. Prove that:\n",
    "$1^{p-1}+2^{p-1}+...+(p-1)^{p-1} \\equiv p-1 \\mod p$"
   ]
  },
  {
   "cell_type": "markdown",
   "metadata": {},
   "source": [
    "we can apply $\\phi$ and git a simation of 1's<br>\n",
    "becaus $a^{\\phi(p)}\\equiv 1 \\mod p $ <br>\n",
    "if we take the left had side $1^{p-1}+2^{p-1}+...+(p-1)^{p-1}$<br>\n",
    "we then get $\\sum_{n=1}^{p-1} 1 = (p-1)$ <br>\n",
    "it then fallows that<br>\n",
    "$1^{p-1}+2^{p-1}+...+(p-1)^{p-1} \\equiv p-1 \\mod p$ therefore <br>\n",
    "${p-1} \\equiv p-1 \\mod p$"
   ]
  },
  {
   "cell_type": "markdown",
   "metadata": {},
   "source": [
    "Exercise 5: \n",
    "---"
   ]
  },
  {
   "cell_type": "markdown",
   "metadata": {},
   "source": [
    "We can do this with factoring but a simpler way would be to count the coprime linearly using Euclid algorithm to get the GCD"
   ]
  },
  {
   "cell_type": "code",
   "execution_count": 1,
   "metadata": {},
   "outputs": [
    {
     "name": "stdout",
     "output_type": "stream",
     "text": [
      "96\n",
      "3200\n",
      "146520\n"
     ]
    }
   ],
   "source": [
    "function gcdIter(a,b)\n",
    "    while(b != 0)  \n",
    "        t = b\n",
    "        b = a%b\n",
    "        a = t\n",
    "    end   \n",
    "    return a \n",
    "end\n",
    "\n",
    "function phi(n)\n",
    "    ret = 0\n",
    "    for i in range(0,n)\n",
    "        if gcd(i,n) == 1\n",
    "            ret+=1\n",
    "        end\n",
    "    end\n",
    "    return ret\n",
    "end\n",
    "\n",
    "println(phi(97))\n",
    "println(phi(8800))\n",
    "println(phi(293042))\n"
   ]
  },
  {
   "cell_type": "markdown",
   "metadata": {},
   "source": [
    "$\\phi(97)$\n",
    "---\n",
    "---\n",
    "\n"
   ]
  },
  {
   "cell_type": "markdown",
   "metadata": {},
   "source": [
    "this one is just p-1 becaus the number is prime so the answer is 96"
   ]
  },
  {
   "cell_type": "markdown",
   "metadata": {},
   "source": [
    "$\\phi(8800)$\n",
    "---\n",
    "---\n"
   ]
  },
  {
   "cell_type": "markdown",
   "metadata": {},
   "source": [
    "this number is not as simple<br>\n",
    "we need to factor the number <br>\n",
    "PRIMEFACTORS = ${2, 2, 2, 2, 2, 5, 5, 11}$"
   ]
  },
  {
   "cell_type": "code",
   "execution_count": 30,
   "metadata": {},
   "outputs": [
    {
     "data": {
      "text/plain": [
       "8800"
      ]
     },
     "metadata": {},
     "output_type": "display_data"
    }
   ],
   "source": [
    "2* 2* 2* 2* 2* 5* 5* 11"
   ]
  },
  {
   "cell_type": "markdown",
   "metadata": {},
   "source": [
    "so $\\phi(8800)=8800(1-1/2)(1-1/5)(1-1/11)$"
   ]
  },
  {
   "cell_type": "code",
   "execution_count": 31,
   "metadata": {},
   "outputs": [
    {
     "data": {
      "text/plain": [
       "3200.0"
      ]
     },
     "metadata": {},
     "output_type": "display_data"
    }
   ],
   "source": [
    "8800*(1-1/2)*(1-1/5)*(1-1/11)"
   ]
  },
  {
   "cell_type": "markdown",
   "metadata": {},
   "source": [
    "$\\phi(8800) = 3200.0$"
   ]
  },
  {
   "cell_type": "markdown",
   "metadata": {},
   "source": [
    "$\\phi(3^k)$\n",
    "---\n",
    "---"
   ]
  },
  {
   "cell_type": "markdown",
   "metadata": {},
   "source": [
    "$\\phi(3) = 2$"
   ]
  },
  {
   "cell_type": "markdown",
   "metadata": {},
   "source": [
    "becaus 3 is a prime number any number base 3 will be a have the factors of 3 in it "
   ]
  },
  {
   "cell_type": "markdown",
   "metadata": {},
   "source": [
    "$\\phi(3^k) = 3^k(1-1/3)$\n",
    "\n",
    "\n"
   ]
  },
  {
   "cell_type": "markdown",
   "metadata": {},
   "source": [
    "$ \\phi(3^{1}) = 3^{1}(1-1/3) = 2 $ <br>\n",
    "$ \\phi(3^{2}) = 3^{2}(1-1/3) = 6 $ <br>\n",
    "$ \\phi(3^{3}) = 3^{3}(1-1/3) = 18 $ <br>\n",
    "$ \\phi(3^{4}) = 3^{4}(1-1/3) = 54 $ <br>\n",
    "$ \\phi(3^{5}) = 3^{5}(1-1/3) = 162 $ <br>\n",
    "$ \\phi(3^{6}) = 3^{6}(1-1/3) = 486 $ <br>\n",
    "$ \\phi(3^{7}) = 3^{7}(1-1/3) = 1458 $ <br>\n",
    "$ \\phi(3^{8}) = 3^{8}(1-1/3) = 4374 $ <br>\n",
    "$ \\phi(3^{9}) = 3^{9}(1-1/3) = 13122 $ <br>\n",
    "$ \\phi(3^{10}) = 3^{10}(1-1/3) = 39366 $ <br>"
   ]
  },
  {
   "cell_type": "markdown",
   "metadata": {},
   "source": [
    "Exercise 6: \n",
    "---"
   ]
  },
  {
   "cell_type": "markdown",
   "metadata": {},
   "source": [
    "i am doing this in code becaus its the same but i don't half to do it all by hand"
   ]
  },
  {
   "cell_type": "markdown",
   "metadata": {},
   "source": [
    "we now need to shift the by -12 and the mod 26"
   ]
  },
  {
   "cell_type": "markdown",
   "metadata": {},
   "source": [
    "frist we load and convert the string into numbers "
   ]
  },
  {
   "cell_type": "code",
   "execution_count": 121,
   "metadata": {},
   "outputs": [],
   "source": [
    "\n",
    "message = \"nq ftq otmzsq kag iuet fa eqq uz ftq iadxp\"\n",
    "alfa = Dict(\n",
    "  'a' => 1,\n",
    "  'b' => 2, \n",
    "  'c' => 3,\n",
    "  'd' => 4,\n",
    "  'e' => 5,\n",
    "  'f' => 6, \n",
    "  'g' => 7, \n",
    "  'h' => 8, \n",
    "  'i' => 9, \n",
    "  'j' => 10, \n",
    "  'k' => 11, \n",
    "  'l' => 12, \n",
    "  'm' => 13, \n",
    "  'n' => 14, \n",
    "  'o' => 15, \n",
    "  'p' => 16, \n",
    "  'q' => 17, \n",
    "  'r' => 18, \n",
    "  's' => 19, \n",
    "  't' => 20, \n",
    "  'u' => 21,\n",
    "  'v' => 22, \n",
    "  'w' => 23, \n",
    "  'x' => 24, \n",
    "  'y' => 25, \n",
    "  'z' => 26,\n",
    "  ' ' => 0\n",
    ")\n",
    "\n",
    "\n",
    "key(t) = [k for (k, v) in alfa if v == t][1]\n",
    "# we map the string to vals\n",
    "\n",
    "stringints = []\n",
    "for i in message \n",
    "    push!(stringints,alfa[i])\n",
    "end\n"
   ]
  },
  {
   "cell_type": "markdown",
   "metadata": {},
   "source": [
    "i made 0 as a space so i preserver the info"
   ]
  },
  {
   "cell_type": "markdown",
   "metadata": {},
   "source": [
    "we then preform a function on the set of numbers<br>\n",
    "$\\begin{equation}\n",
    "f(x)=\n",
    "\\left\\{\n",
    "    \\begin{array}{lr}\n",
    "        x - 12 \\mod 26, & \\text{if } x \\neq 0\\\\\n",
    "        x, & \\text{if } x=0\n",
    "    \\end{array}\n",
    "\\right\\}\n",
    "\\end{equation}\n",
    "$"
   ]
  },
  {
   "cell_type": "code",
   "execution_count": 122,
   "metadata": {},
   "outputs": [
    {
     "data": {
      "text/plain": [
       "42-element Vector{Int64}:\n",
       "   2\n",
       "   5\n",
       "   0\n",
       "  -6\n",
       "   8\n",
       "   5\n",
       "   0\n",
       "   3\n",
       "   8\n",
       "   1\n",
       "   ⋮\n",
       "  -6\n",
       "   8\n",
       "   5\n",
       "   0\n",
       "  -3\n",
       " -11\n",
       "  -8\n",
       "  12\n",
       "   4"
      ]
     },
     "metadata": {},
     "output_type": "display_data"
    }
   ],
   "source": [
    "\n",
    "stringints = map((x) -> (\n",
    "    if x == 0\n",
    "        x\n",
    "    else\n",
    "        (x - 12) % 26 \n",
    "    end), stringints)\n",
    "\n"
   ]
  },
  {
   "cell_type": "markdown",
   "metadata": {},
   "source": [
    "what this means is that we have a lists of distances to the right letter, we half to correct this by mapping a function again "
   ]
  },
  {
   "cell_type": "markdown",
   "metadata": {},
   "source": [
    "$\\begin{equation}\n",
    "f(x)=\n",
    "\\left\\{\n",
    "    \\begin{array}{lr}\n",
    "        x + 26, & \\text{if } x \\lt 0\\\\\n",
    "        x, & \\text{if } x\\geq 0\n",
    "    \\end{array}\n",
    "\\right\\}\n",
    "\\end{equation}\n",
    "$"
   ]
  },
  {
   "cell_type": "code",
   "execution_count": 124,
   "metadata": {},
   "outputs": [
    {
     "data": {
      "text/plain": [
       "42-element Vector{Int64}:\n",
       "  2\n",
       "  5\n",
       "  0\n",
       " 20\n",
       "  8\n",
       "  5\n",
       "  0\n",
       "  3\n",
       "  8\n",
       "  1\n",
       "  ⋮\n",
       " 20\n",
       "  8\n",
       "  5\n",
       "  0\n",
       " 23\n",
       " 15\n",
       " 18\n",
       " 12\n",
       "  4"
      ]
     },
     "metadata": {},
     "output_type": "display_data"
    }
   ],
   "source": [
    "\n",
    "stringints = map((x) -> (\n",
    "    if x < 0\n",
    "        x + 26\n",
    "    else\n",
    "        x\n",
    "    end), stringints)"
   ]
  },
  {
   "cell_type": "code",
   "execution_count": 125,
   "metadata": {},
   "outputs": [
    {
     "name": "stdout",
     "output_type": "stream",
     "text": [
      "|2|5|0|20|8|5|0|3|8|1|14|7|5|0|25|15|21|0|23|9|19|8|0|20|15|0|19|5|5|0|9|14|0|20|8|5|0|23|15|18|12|4\n",
      "be the change you wish to see in the world"
     ]
    }
   ],
   "source": [
    "\n",
    "for i in stringints\n",
    "    print(\"|\")\n",
    "    print(i)\n",
    "\n",
    "end\n",
    "println()\n",
    "for i in stringints\n",
    "    print(key(i))\n",
    "end\n"
   ]
  },
  {
   "cell_type": "markdown",
   "metadata": {},
   "source": [
    "so the secret message “Nq ftq otmzsq kag iuet fa eqq uz ftq iadxp” is \"be the change you wish to see in the world\""
   ]
  },
  {
   "cell_type": "markdown",
   "metadata": {},
   "source": [
    "this is because the the English alphabet is base 26 we use a cipher of +12 to shift the alphabet 12 places to the right<br>\n",
    "we can do this in reverse where we shift the numbers to the left or -12 then take the modulo 26 of those numbers to<br>\n",
    "get the distance from 0 or 26 we then find the number by adding that distance to 0 or 26 <br>\n",
    " depending on whether or not the number is negative or positive\n",
    "\n"
   ]
  },
  {
   "cell_type": "markdown",
   "metadata": {},
   "source": [
    "Exercise 7: \n",
    "---"
   ]
  },
  {
   "cell_type": "markdown",
   "metadata": {},
   "source": [
    "Let a secret message:\n",
    "“Dozdbv uhphpehu wr idoo dvohhs zlwk d guhdp dqg zdnh xs\n",
    "zlwk d sxusrvh.”\n"
   ]
  },
  {
   "cell_type": "markdown",
   "metadata": {},
   "source": [
    "We know this message has been encrypted by Ceasar cipher.\n",
    "The private key k is the remainder of 2^1000 mod 13\n"
   ]
  },
  {
   "cell_type": "markdown",
   "metadata": {},
   "source": [
    "we need to find this val sence 13 is prime we can reduse as fallows "
   ]
  },
  {
   "cell_type": "markdown",
   "metadata": {},
   "source": [
    "$2^{12} \\equiv 1 \\mod 13$"
   ]
  },
  {
   "cell_type": "markdown",
   "metadata": {},
   "source": [
    "$1000 \\mod 12 = 4$"
   ]
  },
  {
   "cell_type": "markdown",
   "metadata": {},
   "source": [
    "$2^{4} \\mod 13$"
   ]
  },
  {
   "cell_type": "markdown",
   "metadata": {},
   "source": [
    "$16 \\mod 13 = 3$"
   ]
  },
  {
   "cell_type": "markdown",
   "metadata": {},
   "source": [
    "so we have the right number to decript by "
   ]
  },
  {
   "cell_type": "markdown",
   "metadata": {},
   "source": [
    "if we apply the equation if we account for white spaces"
   ]
  },
  {
   "cell_type": "markdown",
   "metadata": {},
   "source": [
    "$\\begin{equation}\n",
    "f(x)=\n",
    "\\left\\{\n",
    "    \\begin{array}{lr}\n",
    "       \\left\\{\n",
    "        \\begin{array}{lr}\n",
    "        x - 3 + 26, & \\text{if } x-3 \\lt 0\\\\\n",
    "        x - 3, & \\text{if } x-3\\gt 0\n",
    "        \\end{array}\n",
    "        \\right\\}, & \\text{if } x \\neq 0\\\\\n",
    "        x, & \\text{if } x=0\n",
    "    \\end{array}\n",
    "\\right\\}\n",
    "\\end{equation}\n",
    "$"
   ]
  },
  {
   "cell_type": "code",
   "execution_count": 133,
   "metadata": {},
   "outputs": [
    {
     "name": "stdout",
     "output_type": "stream",
     "text": [
      "always remember to fall asleep with a dream and wake up with a purpose"
     ]
    }
   ],
   "source": [
    "function decript(message, cypher)\n",
    "    alfa = Dict(\n",
    "  'a' => 1,\n",
    "  'b' => 2, \n",
    "  'c' => 3,\n",
    "  'd' => 4,\n",
    "  'e' => 5,\n",
    "  'f' => 6, \n",
    "  'g' => 7, \n",
    "  'h' => 8, \n",
    "  'i' => 9, \n",
    "  'j' => 10, \n",
    "  'k' => 11, \n",
    "  'l' => 12, \n",
    "  'm' => 13, \n",
    "  'n' => 14, \n",
    "  'o' => 15, \n",
    "  'p' => 16, \n",
    "  'q' => 17, \n",
    "  'r' => 18, \n",
    "  's' => 19, \n",
    "  't' => 20, \n",
    "  'u' => 21,\n",
    "  'v' => 22, \n",
    "  'w' => 23, \n",
    "  'x' => 24, \n",
    "  'y' => 25, \n",
    "  'z' => 26,\n",
    "  ' ' => 0\n",
    ")\n",
    "\n",
    "key(t) = [k for (k, v) in alfa if v == t][1]\n",
    "# we map the string to vals\n",
    "\n",
    "stringints = []\n",
    "for i in message \n",
    "    push!(stringints,alfa[i])\n",
    "end\n",
    "\n",
    "  return map((x) -> (\n",
    "    if x == 0\n",
    "        key(x)\n",
    "    elseif x - cypher > 0\n",
    "        key(x - 3)\n",
    "    elseif x - cypher < 0\n",
    "        key(x - 3 + 26) \n",
    "    end), stringints)\n",
    "end\n",
    "\n",
    "m = decript(\"dozdbv uhphpehu wr idoo dvohhs zlwk d guhdp dqg zdnh xs zlwk d sxusrvh\", 3)\n",
    "\n",
    "for i in m\n",
    "    print(i)\n",
    "end"
   ]
  },
  {
   "cell_type": "markdown",
   "metadata": {},
   "source": [
    "What is the content of this message? Explain your proof."
   ]
  },
  {
   "cell_type": "markdown",
   "metadata": {},
   "source": [
    "in this case we didn't need to use mod becaus we we know that a number + the base will be congruent with itself<br>\n",
    "example; $2+13 \\mod 13 = 2$ <br>\n",
    "we can abuse this fact to wrap the number to the appropriate value  <br>"
   ]
  }
 ],
 "metadata": {
  "kernelspec": {
   "display_name": "Julia 1.10.4",
   "language": "julia",
   "name": "julia-1.10"
  },
  "language_info": {
   "file_extension": ".jl",
   "mimetype": "application/julia",
   "name": "julia",
   "version": "1.10.4"
  }
 },
 "nbformat": 4,
 "nbformat_minor": 2
}
