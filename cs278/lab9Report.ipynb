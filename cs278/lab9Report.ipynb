{
 "cells": [
  {
   "cell_type": "markdown",
   "metadata": {},
   "source": [
    "1)  Take 5 different distance measurements noting the exact distance.  Report these values. \n",
    "---"
   ]
  },
  {
   "cell_type": "markdown",
   "metadata": {},
   "source": [
    "#1 had at 30 cm got 29.50"
   ]
  },
  {
   "cell_type": "markdown",
   "metadata": {},
   "source": [
    "#2 hand at 21 cm got 20.72"
   ]
  },
  {
   "cell_type": "markdown",
   "metadata": {},
   "source": [
    "#3 hand at 5 inch got 12.9"
   ]
  },
  {
   "cell_type": "markdown",
   "metadata": {},
   "source": [
    "#4 hand at 6 inch got 15.14"
   ]
  },
  {
   "cell_type": "markdown",
   "metadata": {},
   "source": [
    "#5 hand at 8 inch got 20.30"
   ]
  },
  {
   "cell_type": "markdown",
   "metadata": {},
   "source": [
    "2) Calculate how many microseconds one foot is.  Show your work\n",
    "---"
   ]
  },
  {
   "cell_type": "markdown",
   "metadata": {
    "vscode": {
     "languageId": "julia"
    }
   },
   "source": [
    "\n",
    "we can use the formula (speed of sound in feet * time in seconds) / 2<br>\n",
    "we can then do some algabra to find the answer<br>\n",
    "$1 = (1125.33 * time in second) / 2$<br>\n",
    "solving we for time in second we get<br>\n",
    "$\\frac{1}{2} = (1125.33 * t)$<br>\n",
    "$ \\frac{\\frac{1}{2}}{1125.33} = t$\n",
    "\n"
   ]
  },
  {
   "cell_type": "code",
   "execution_count": null,
   "metadata": {},
   "outputs": [
    {
     "data": {
      "text/plain": [
       "0.00044431411230483504"
      ]
     },
     "metadata": {},
     "output_type": "display_data"
    }
   ],
   "source": [
    "(1/2)/1125.33"
   ]
  },
  {
   "cell_type": "markdown",
   "metadata": {},
   "source": [
    "so it takes around 0.00044431411230483504 seconds for sound to travel 1 foot<br>\n",
    "we then can convert that into microseconds"
   ]
  },
  {
   "cell_type": "code",
   "execution_count": null,
   "metadata": {},
   "outputs": [
    {
     "data": {
      "text/plain": [
       "444.314112304835"
      ]
     },
     "metadata": {},
     "output_type": "display_data"
    }
   ],
   "source": [
    "0.00044431411230483504 * 1000000"
   ]
  },
  {
   "cell_type": "markdown",
   "metadata": {},
   "source": [
    "so the answer is it takes 444.314112304835 microseconds for sound to travel one foot"
   ]
  },
  {
   "cell_type": "markdown",
   "metadata": {},
   "source": [
    "3)  What is the minimum and maximum effective measuring distance of the device?  Provide a link along with your answer\n",
    "---"
   ]
  },
  {
   "cell_type": "markdown",
   "metadata": {},
   "source": [
    "https://docs.arduino.cc/built-in-examples/sensors/Ping/"
   ]
  },
  {
   "cell_type": "markdown",
   "metadata": {},
   "source": [
    "from 3 cm up to 400 cm"
   ]
  },
  {
   "cell_type": "markdown",
   "metadata": {},
   "source": [
    "4)  Is it possible for our ISR to be interrupted with another PINB, pin 1 state change?\n",
    "---"
   ]
  },
  {
   "cell_type": "markdown",
   "metadata": {},
   "source": [
    "i don't think so the i bit must be hi in other words the interrupts must be on. <br>\n",
    "the i don't know if the i bit is on or off.<br>"
   ]
  }
 ],
 "metadata": {
  "kernelspec": {
   "display_name": "Julia 1.10.4",
   "language": "julia",
   "name": "julia-1.10"
  },
  "language_info": {
   "file_extension": ".jl",
   "mimetype": "application/julia",
   "name": "julia",
   "version": "1.10.4"
  }
 },
 "nbformat": 4,
 "nbformat_minor": 2
}
