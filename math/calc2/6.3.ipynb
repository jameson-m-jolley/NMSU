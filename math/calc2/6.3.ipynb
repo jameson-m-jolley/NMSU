{
 "cells": [
  {
   "cell_type": "markdown",
   "metadata": {},
   "source": [
    "# Math 1521G Calculus and Analytic Geometry II In-Class Problems\n",
    "\n",
    "## Problem 1\n",
    "Consider the region bounded between $ y = x $ and $ y = x^4 $.\n",
    "Use the cylindrical shell method to find the volume when this region is rotated around the y-axis.\n",
    "\n",
    "---\n",
    "\n",
    "## Problem 2\n",
    "Do the same problem as above, but use the washer method.\n",
    "\n",
    "---\n",
    "\n",
    "## Problem 3\n",
    "Consider the region between $ y = -(x - 1)(x - 3) $ and $ y = \\frac{1}{2}(x - 1) $ rotated around the y-axis.\n",
    "\n",
    "a. What about this problem makes it difficult to use the washer method?\n",
    "\n",
    "b. Use the washer method to find the volume."
   ]
  }
 ],
 "metadata": {
  "kernelspec": {
   "display_name": "Python 3 (ipykernel)",
   "language": "python",
   "name": "python3"
  },
  "language_info": {
   "codemirror_mode": {
    "name": "ipython",
    "version": 3
   },
   "file_extension": ".py",
   "mimetype": "text/x-python",
   "name": "python",
   "nbconvert_exporter": "python",
   "pygments_lexer": "ipython3",
   "version": "3.13.1"
  }
 },
 "nbformat": 4,
 "nbformat_minor": 4
}
