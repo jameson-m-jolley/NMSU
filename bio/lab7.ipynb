{
 "cells": [
  {
   "cell_type": "markdown",
   "metadata": {},
   "source": [
    "lab notes for lab 6 \n",
    "\n",
    "this lab is on osmosis \n",
    "we have a bag that we are testing different types of solutes in it \n",
    "\n",
    "so the goal is to show concentration moving from one volume to another "
   ]
  },
  {
   "cell_type": "markdown",
   "metadata": {},
   "source": [
    "### independent var\n",
    "water "
   ]
  },
  {
   "cell_type": "markdown",
   "metadata": {},
   "source": [
    "### dependent var\n",
    "mass"
   ]
  },
  {
   "cell_type": "markdown",
   "metadata": {},
   "source": [
    "we will measure the mass in grams \n",
    "\n",
    "note; make sure the bags of cellular solution is not leaking and we half to ware gloves \n"
   ]
  },
  {
   "cell_type": "markdown",
   "metadata": {},
   "source": [
    " <table>\n",
    "  <tr>\n",
    "    <th>time min</th>\n",
    "    <th>bag 1(water) g</th>\n",
    "    <th>bag 2(cell) g</th>\n",
    "  </tr>\n",
    "  <tr>\n",
    "    <td>0</td>\n",
    "    <td>6.6g</td>\n",
    "    <td>6.2g</td>\n",
    "  </tr>\n",
    "  <tr>\n",
    "    <td>10</td>\n",
    "    <td>6.68g</td>\n",
    "    <td>6.13g</td>\n",
    "  </tr>\n",
    "  <tr>\n",
    "    <td>20</td>\n",
    "    <td>6.61</td>\n",
    "    <td>6.02</td>\n",
    "  </tr>\n",
    "  <tr>\n",
    "    <td>30</td>\n",
    "    <td>6.55</td>\n",
    "    <td>5.99</td>\n",
    "  </tr>\n",
    "</table> "
   ]
  },
  {
   "cell_type": "markdown",
   "metadata": {},
   "source": [
    "the lab report is on tonicity -- or on the next experiment\n",
    "purpose what is is the tonicity of the solution in the back and\n",
    "we are to tell her what the concentration of the unknown solution is."
   ]
  },
  {
   "cell_type": "markdown",
   "metadata": {},
   "source": [
    "exp #2\n",
    "<table>\n",
    "  <tr>\n",
    "    <th>time min</th>\n",
    "    <th>bag 1(5%) g</th>\n",
    "    <th>bag 2(15%) g</th>\n",
    "  </tr>\n",
    "  <tr>\n",
    "    <td>0</td>\n",
    "    <td></td>\n",
    "    <td></td>\n",
    "  </tr>\n",
    "  <tr>\n",
    "    <td>10</td>\n",
    "    <td></td>\n",
    "    <td></td>\n",
    "  </tr>\n",
    "  <tr>\n",
    "    <td>20</td>\n",
    "    <td></td>\n",
    "    <td></td>\n",
    "  </tr>\n",
    "  <tr>\n",
    "    <td>30</td>\n",
    "    <td></td>\n",
    "    <td></td>\n",
    "  </tr>\n",
    "</table>"
   ]
  },
  {
   "cell_type": "markdown",
   "metadata": {},
   "source": [
    "the hypothesis: \n",
    " if the connotations is higher than a given "
   ]
  },
  {
   "cell_type": "code",
   "execution_count": null,
   "metadata": {},
   "outputs": [
    {
     "data": {
      "text/plain": [
       "1000"
      ]
     },
     "metadata": {},
     "output_type": "display_data"
    }
   ],
   "source": [
    "function v(c1,v1,)\n",
    "    \n",
    "end"
   ]
  },
  {
   "cell_type": "markdown",
   "metadata": {},
   "source": []
  }
 ],
 "metadata": {
  "kernelspec": {
   "display_name": "Julia 1.11.3",
   "language": "julia",
   "name": "julia-1.11"
  },
  "language_info": {
   "file_extension": ".jl",
   "mimetype": "application/julia",
   "name": "julia",
   "version": "1.11.3"
  }
 },
 "nbformat": 4,
 "nbformat_minor": 2
}
