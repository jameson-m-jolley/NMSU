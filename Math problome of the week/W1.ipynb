{
 "cells": [
  {
   "cell_type": "markdown",
   "metadata": {},
   "source": [
    "prompt: \n",
    "5 mascots including Pistol Pete and Paydirt pete are lined up for a photo.\n",
    "how menny ways can you line up the 5 mascots without pistol pete and Paydirt pete standing next to each other\n",
    "\n",
    "\n"
   ]
  },
  {
   "cell_type": "markdown",
   "metadata": {},
   "source": [
    "---\n",
    "W:1<br>\n",
    "name: Jameson Manning Jolley"
   ]
  },
  {
   "cell_type": "markdown",
   "metadata": {},
   "source": [
    "we know that we have 5 slots for each of the mascots\n",
    "\n",
    "\"_ _ _ _ _\n",
    "\n",
    "if we ignore the fact that the 2 mascots need to not stand together we will get this statement \n",
    "\n",
    "5 * 4 * 3 * 2 * 1  or 5!\n",
    "\n"
   ]
  },
  {
   "cell_type": "markdown",
   "metadata": {},
   "source": [
    "This is the number of permutations that we could have.\n",
    "\n",
    "if we assume that that one space is  pistol Pete and one is Paydirt Pete, we would have 3 options and 5 slots or $C(3,5)$\n",
    "The formula for combinations is:\n",
    "\n",
    "$C(n, r) = n! / (r! * (n - r)!)$\n",
    "\n",
    "(this is not correct just my thinking process)"
   ]
  },
  {
   "cell_type": "code",
   "execution_count": 2,
   "metadata": {},
   "outputs": [
    {
     "data": {
      "text/plain": [
       "10"
      ]
     },
     "execution_count": 2,
     "metadata": {},
     "output_type": "execute_result"
    }
   ],
   "source": [
    ";; this is the code for computing factorial\n",
    ";; this code is clojure witch is a lisp that runs on the java VM\n",
    "(defn fact [x]\n",
    "    (loop [n x f 1]\n",
    "        (if (= n 1)\n",
    "            f\n",
    "            (recur (dec n) (* f n)))))\n",
    "\n",
    ";; this computes combinations\n",
    "(defn C [n,r] (/ (fact n) (* (fact r) (fact (- n r)))))\n",
    "\n",
    ";;we can then compute the combinations\n",
    "(C 5 3)\n"
   ]
  },
  {
   "cell_type": "markdown",
   "metadata": {},
   "source": [
    "so we know that independent of the 2 of Pistol Pete and Paydirt pete. there are 10 combinations. but i would consider this not correct, this dose not factor in the posable positions of the other 2 mascots. \n",
    "for that we need to look at all the permutations that are not aloud. (also this was not the question that was given) "
   ]
  },
  {
   "cell_type": "markdown",
   "metadata": {},
   "source": [
    "<pre>\n",
    "we have 5 slots \n",
    "\n",
    "| 1 | 2 | 3 | 4 | 5 |\n",
    "the 2 mascots can't stand next to each other \n",
    "so how we need to count the intervals of 2 in the number 5 \n",
    "[1,2][2,3][3,4][4,5]\n",
    "counting this we get 4\n",
    "we can then treat the 2 mascots as the same unit to find all the combinations that would not be correct.\n",
    "\n",
    "we then have the total number of arrangements of 5 different items witch is 5!\n",
    "we then have the number of arrangements that would be incorrect is 4! because we treat the 2 mascots as the same unit\n",
    "so 5! - 4! but this ignores the arrangements of the 2 mascots (2! or 2)   together so we need to factor that into our computation.\n",
    "</pre>\n"
   ]
  },
  {
   "cell_type": "code",
   "execution_count": 4,
   "metadata": {},
   "outputs": [
    {
     "data": {
      "text/plain": [
       "72"
      ]
     },
     "execution_count": 4,
     "metadata": {},
     "output_type": "execute_result"
    }
   ],
   "source": [
    "(- (fact 5) (* 2 (fact 4)))"
   ]
  },
  {
   "cell_type": "markdown",
   "metadata": {},
   "source": [
    "so the answer is $5! - (2 * !4)  = 72$"
   ]
  }
 ],
 "metadata": {
  "kernelspec": {
   "display_name": "Clojure (clojupyter-0.4.321)",
   "language": "clojure",
   "name": "clojupyter-0.4.321"
  },
  "language_info": {
   "file_extension": ".clj",
   "mimetype": "text/x-clojure",
   "name": "clojure",
   "version": "1.11.3"
  }
 },
 "nbformat": 4,
 "nbformat_minor": 2
}
