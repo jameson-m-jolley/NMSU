{
 "cells": [
  {
   "cell_type": "code",
   "execution_count": null,
   "metadata": {},
   "outputs": [],
   "source": []
  },
  {
   "cell_type": "markdown",
   "metadata": {},
   "source": []
  },
  {
   "cell_type": "markdown",
   "metadata": {},
   "source": [
    "what is a lang?\n",
    "\n",
    "answer \n",
    "\n",
    "    a lang is a set of terminals in a grammar.\n",
    "    and a start symbol.\n",
    "\n",
    "result \n",
    "    incorrect \n",
    "\n",
    "    a lang is the set of all string that can be made over a alphabet \n",
    "    this can be an finite or infinite. \n",
    "    as long as it fallows the rules of the grammar  "
   ]
  },
  {
   "cell_type": "markdown",
   "metadata": {},
   "source": [
    "what is an abstract syntax tree?\n",
    "\n",
    "    answer \n",
    "    an abstract syntax tree is a derivation of a grammar where the non-terminals and terminals are expanded onto a tree representing the grammar of the lang \n",
    "\n",
    "    result this is sort of correct.\n",
    "    a syntax tree is defined per expression. meaning that the tree is used for understating the syntax of the expression not how the lang \n",
    "\n",
    "    what you decried above is a parse tree \n",
    "\n",
    "    and abstract syntax tree is more like you would find in a lang like lisp\n",
    "    (+(-10 11)13)\n"
   ]
  },
  {
   "cell_type": "markdown",
   "metadata": {},
   "source": [
    "what is a grammar? \n",
    "\n",
    "\n",
    "     answer:\n",
    "\n",
    "     a grammar defies a set of rules over an Alphabet\n",
    "     and a start symbol\n",
    "\n",
    "     result:\n",
    "\n",
    "          this is true but grammars define langs by applying a set of rules matched with sutures or panders of the lang not just rules\n",
    "\n",
    "          a grammar defines \n",
    "          a alphabet \n",
    "          a start symbol \n",
    "          a set of terminating symbols \n",
    "          a set of non terminating symbols \n",
    "\n"
   ]
  },
  {
   "cell_type": "markdown",
   "metadata": {},
   "source": [
    "what is semantics?\n",
    "\n",
    "\n",
    "what is syntax?\n",
    "\n"
   ]
  }
 ],
 "metadata": {
  "language_info": {
   "name": "python"
  }
 },
 "nbformat": 4,
 "nbformat_minor": 2
}
