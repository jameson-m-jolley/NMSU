{
 "cells": [
  {
   "cell_type": "markdown",
   "metadata": {},
   "source": [
    "what is a subset construction? \n",
    "    the algo to take an nfa and convert to DFA"
   ]
  },
  {
   "cell_type": "markdown",
   "metadata": {},
   "source": [
    "non determinism is just a reference to the fact that one state can map to a number of states\n",
    "\n",
    "we take a regex expression that is ab*(a|bb)\n",
    "\n",
    "a raw sudo code\n",
    "\n",
    "starting at the first state. \n",
    "if there is only one state we can just copy the trans\n",
    "\n",
    "so at each state we ask \"for all of our Alphabet where can we map to?\"\n",
    "\n",
    "when we have a state that has more than one path so the same path has and input that has 2 outputs \n",
    "you create a new state that combines the prev states  so \n",
    "this can be reclusive where the subset make more subsets\n",
    "\n",
    "the states are most of the time a list of states that it is posable to map to\n",
    "\n",
    "\n",
    "be careful to not mismatch eps with consuming a symbol!\n",
    "in the nfa you need to mach the symbol that would be consumed.\n",
    "so E can be ignored. \n"
   ]
  },
  {
   "cell_type": "markdown",
   "metadata": {},
   "source": [
    "___"
   ]
  },
  {
   "cell_type": "markdown",
   "metadata": {},
   "source": [
    "study questions \n",
    "\n",
    "make some regex \n",
    "\n",
    "transform those regex into nfa and the nfa into dfa \n"
   ]
  }
 ],
 "metadata": {
  "language_info": {
   "name": "python"
  }
 },
 "nbformat": 4,
 "nbformat_minor": 2
}
