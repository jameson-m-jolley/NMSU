{
 "cells": [
  {
   "cell_type": "code",
   "execution_count": null,
   "metadata": {},
   "outputs": [],
   "source": []
  },
  {
   "cell_type": "markdown",
   "metadata": {},
   "source": [
    "questions for study\n",
    "\n",
    "#1 what is a Epsilon closure?\n",
    "\n",
    "#2 what is the subset construction algorithm?\n",
    "\n",
    "#3 compute a subset construction of a NFA into a DFA?\n",
    "\n",
    "#4 what qualifies as a state transition?"
   ]
  },
  {
   "cell_type": "markdown",
   "metadata": {},
   "source": [
    "notes from lecture\n",
    "\n",
    "    look at the algo 3.20 in TB PP153 - 154\n",
    "\n"
   ]
  },
  {
   "cell_type": "markdown",
   "metadata": {},
   "source": [
    "example  (ab)*(ba)+\n",
    "doing thomson Construction\n",
    "we get a nfa \n",
    "we then can do the subset construction \n",
    "\n",
    " we need the E closure of the starting state\n",
    " {1,2,5}\n",
    " so d states would be Dstates = {Z:{1,2,5}}\n",
    "\n",
    " we then go into the loop \n",
    " while(there is an unmarked stat in z, or unmarked symbols in the alfa){\n",
    "    // we must go through all the symbols in the alphabet\n",
    "    so we move(Z,a) ->> resa // we then compute the E closure of this result.\n",
    "    so we move(Z,b) ->> resb // we then compute the E closure of this result.\n",
    "\n",
    "    we then store those states \n",
    "    \n",
    "    then we repeat with the state that where generated if it was not already computed\n",
    "    if(resa not in Dstates);\n",
    "        add(Dstates resa);\n",
    "\n",
    "    if(resb not in Dstates);\n",
    "        add(Dstates resb);\n",
    "\n",
    " }"
   ]
  }
 ],
 "metadata": {
  "language_info": {
   "name": "python"
  }
 },
 "nbformat": 4,
 "nbformat_minor": 2
}
