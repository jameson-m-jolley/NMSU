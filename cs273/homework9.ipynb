{
 "cells": [
  {
   "cell_type": "markdown",
   "metadata": {},
   "source": [
    "1\n",
    "---"
   ]
  },
  {
   "cell_type": "markdown",
   "metadata": {},
   "source": [
    "<pre>\n",
    "1. Decode the following AVR binary code located in the program memory.  \n",
    " What are the registers involved? \n",
    " \n",
    " r18,r19,r20\n",
    " What are their values before and after the program finishes? \n",
    "\n",
    " LDI r18   1 > 2 > 4 > 8 > 16 > 32 > 64 > 128 > 256\n",
    " LDI r19   1 > 2 > 4 > 8 > 16 > 32 > 64 > 128 > 256  \n",
    " LDI r20   8 > 7 > 6 > 5 > 4  >  3 > 2  > 1   > 0\n",
    "\n",
    " You will need to pay attention to the endianess of the coding. \n",
    " (The dashes are not part of the code but are added to increase readability) \n",
    "\n",
    "Starting program memory address is 0x0100\n",
    "\n",
    "                        LOW BYTE | HIGH BYTE\n",
    "\n",
    "0x0100:           0010-0001-1110-0000\n",
    "\n",
    "0x0101:           0011-0001-1110-0000\n",
    "\n",
    "0x0102:           0100-1000-1110-0000\n",
    "\n",
    "0x0103:           0011-0010-0000-1111\n",
    "\n",
    "0x0104:           0010-0011-0010-1111\n",
    "\n",
    "0x0105:           0100-1010-1001-0101\n",
    "\n",
    "0x0106:           1110-0001-1111-0111\n",
    "</pre>"
   ]
  },
  {
   "cell_type": "markdown",
   "metadata": {},
   "source": [
    "<pre>\n",
    "1110 -0000 - 0010-0001   LDI r18 0x01   1 > 2 > 4 > 8 > 16 > 32 > 64 > 128 > 256\n",
    "1110 -0000 - 0011-0001   LDI r19 0x01   1 > 2 > 4 > 8 > 16 > 32 > 64 > 128 > 256\n",
    "1110 -0000 - 0100-1000   LDI r20 0x08   8 > 7 > 6 > 5 > 4  >  3 > 2  > 1   > 0\n",
    "0000-11 11 - 0011-0010   L1: add r19, r18   \n",
    "0010-11 11 - 0010-0011   move r18,r19\n",
    "1001-0101 - 0100-1010    dec r20\n",
    "1111-01 11 - 1110-0 001  BRNE L1\n",
    "</pre>"
   ]
  },
  {
   "cell_type": "markdown",
   "metadata": {},
   "source": [
    "2\n",
    "---"
   ]
  },
  {
   "cell_type": "markdown",
   "metadata": {},
   "source": [
    "<pre>\n",
    "2. Indicate the value loaded into R30, R31, and R20 in the following program:\n",
    "\n",
    "             .ORG 0x0\n",
    "\n",
    "                        LDI R30, LO8(OUR_DATA )\n",
    "\n",
    "                        LDI R31, HI8(OUR_DATA)\n",
    "\n",
    "                        LPM  R20, Z\n",
    "\n",
    "            .ORG 0x0524\n",
    "\n",
    "            OUR_DATA: .byte 20, ‘$’, ‘5’\n",
    "\n",
    "</pre>"
   ]
  },
  {
   "cell_type": "markdown",
   "metadata": {},
   "source": [
    "r30 0x24\n",
    "r31 0x05\n",
    "r20 $ or 0x24"
   ]
  },
  {
   "cell_type": "markdown",
   "metadata": {},
   "source": [
    "3\n",
    "---"
   ]
  },
  {
   "cell_type": "markdown",
   "metadata": {},
   "source": [
    "<pre>\n",
    "3. Write a program to read the following message from program ROM and place it in data RAM starting at 0x200:\n",
    "\n",
    "            .ORG 0x0500\n",
    "\n",
    "MYDATA: .asciz “Will artificial intelligence rule human?”\n",
    "</pre >"
   ]
  },
  {
   "cell_type": "markdown",
   "metadata": {},
   "source": [
    "<pre> \n",
    "\n",
    "LDI R30, lo8(MYDATA) \n",
    "\n",
    "LDI R31, hi8(MYDATA) \n",
    "\n",
    "LDI R28, lo8(0x200) \n",
    "LDI R29, hi8(0x200) \n",
    "\n",
    " // repeal while input not 0, read , write and then check \n",
    "\n",
    "L:  LPM R16, Z+ \n",
    "\n",
    "     ST Y+, R16 \n",
    "\n",
    "     CPI R16, 0 \n",
    "\n",
    "     BRNE L \n",
    "</pre>"
   ]
  },
  {
   "cell_type": "markdown",
   "metadata": {},
   "source": [
    "4\n",
    "---"
   ]
  },
  {
   "cell_type": "markdown",
   "metadata": {},
   "source": [
    "4. Write a program that calculates the checksum of the values at location 0x00D5 to 0x0300 of EEPROM."
   ]
  },
  {
   "cell_type": "markdown",
   "metadata": {},
   "source": [
    "<pre>\n",
    "CLR R20  /// my checksum \n",
    "LDI R17, 0x00 \n",
    "LDI R16, 0xD5 \n",
    "LDI R18, 0 // used for ADDC  for R17 \n",
    "LOOP: \n",
    "       \\\\ put R17 and R16 into EEPROM registers \n",
    "       \\\\ tell EEPROMG to  REAAD \n",
    "       \\\\ pull data from EEPROM into R21 \n",
    "\n",
    "        ADD R20, R21 \n",
    "\n",
    "        \\\\ move my R16 and R17 forward. \n",
    "\n",
    "        INC R16 \n",
    "\n",
    "        ADC R17, R18 \n",
    "\n",
    "        CPI R17 , 0x03 \n",
    "\n",
    "        BREQ GETOUT \n",
    "\n",
    "        JMP LOOP \n",
    "\n",
    "GETOUT:// R16  is the  \n",
    "\n",
    "    /// now calculate the checksum \n",
    "\n",
    "         NEG R16 \n",
    "\n",
    "</pre>"
   ]
  },
  {
   "cell_type": "markdown",
   "metadata": {},
   "source": [
    "5\n",
    "---"
   ]
  },
  {
   "cell_type": "markdown",
   "metadata": {},
   "source": [
    "\n",
    "5. In each of the following cases perform checksum calculation to see if data is corrupted or not.\n"
   ]
  },
  {
   "cell_type": "markdown",
   "metadata": {},
   "source": [
    "\n",
    "(a) Data=$62, $F3, and $15; checksum=$72"
   ]
  },
  {
   "cell_type": "markdown",
   "metadata": {},
   "source": [
    "this is corrupted"
   ]
  },
  {
   "cell_type": "markdown",
   "metadata": {},
   "source": [
    "\n",
    "(b) Data=$50, $88, $3C, and $8E; checksum=$6D\n"
   ]
  },
  {
   "cell_type": "markdown",
   "metadata": {},
   "source": [
    "this is corrupted"
   ]
  },
  {
   "cell_type": "markdown",
   "metadata": {},
   "source": [
    "\n",
    "(c) Data=0, 0, 0, 0, 0, 0; checksum=0\n"
   ]
  },
  {
   "cell_type": "markdown",
   "metadata": {},
   "source": [
    "not corrupted"
   ]
  },
  {
   "cell_type": "markdown",
   "metadata": {},
   "source": [
    "\n",
    "(d) Data=1,-1,1,-1,1,-1; checksum=1"
   ]
  },
  {
   "cell_type": "markdown",
   "metadata": {},
   "source": [
    "this is corrupted"
   ]
  }
 ],
 "metadata": {
  "kernelspec": {
   "display_name": "Julia 1.10.4",
   "language": "julia",
   "name": "julia-1.10"
  },
  "language_info": {
   "file_extension": ".jl",
   "mimetype": "application/julia",
   "name": "julia",
   "version": "1.10.4"
  }
 },
 "nbformat": 4,
 "nbformat_minor": 2
}
