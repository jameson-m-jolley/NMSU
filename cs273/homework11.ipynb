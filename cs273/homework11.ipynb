{
 "cells": [
  {
   "cell_type": "markdown",
   "metadata": {},
   "source": [
    "Homework11\n",
    "---\n",
    "name: Jameson Jolley <br>\n",
    "class: cs 273"
   ]
  },
  {
   "cell_type": "markdown",
   "metadata": {},
   "source": [
    "1 \n",
    "---\n",
    "Find the memory and I/O (if available) addresses of the following timer/counter related registers from ATmega328P Register Summary<br>\n",
    "(in the back of the booklet):"
   ]
  },
  {
   "cell_type": "markdown",
   "metadata": {},
   "source": [
    "<pre>\n",
    "TCNT0 =>  0x26 \n",
    "\n",
    "TCCR0A => 0x24\n",
    "\n",
    "TCCR0B => 0x25 \n",
    "\n",
    "OCR0A =>  0x27 \n",
    "\n",
    "OCR0B =>  0x28 \n",
    "\n",
    "TIMSK0 => 0x6E\n",
    "\n",
    " \n",
    "\n",
    "TCNT1H => 0x84 \n",
    "\n",
    "TCNT1L => 0x83 \n",
    "\n",
    "TCCR1A => 0x80\n",
    "\n",
    "TCCR1B => 0x81\n",
    "\n",
    "TCCR1C => 0x82\n",
    "\n",
    "OCR1AH => 0x88 \n",
    "\n",
    "OCR1AL => 0x87\n",
    "\n",
    "OCR1BH => 0x8A \n",
    "\n",
    "OCR1BL => 0x8\n",
    "\n",
    "TIMSK1 => 0x6F\n",
    "\n",
    " \n",
    "\n",
    "TCNT2 => 0xB2\n",
    "\n",
    "TCCR2A => 0xB0\n",
    "\n",
    "TCCR2B => 0xB1\n",
    "\n",
    "OCR2A => 0xB3\n",
    "\n",
    "OCR2B => 0xB4\n",
    "\n",
    "TIMSK2 => 0x70\n",
    "</pre>"
   ]
  },
  {
   "cell_type": "markdown",
   "metadata": {},
   "source": [
    "2\n",
    "--- \n",
    "---\n",
    "Read Section 14 Interrupts and Timers of the booklet and answer the following questions.\n"
   ]
  },
  {
   "cell_type": "markdown",
   "metadata": {},
   "source": [
    "\n",
    "2.1\n",
    "---\n",
    "What are the benefits of the interrupts mechanism in a computer?\n"
   ]
  },
  {
   "cell_type": "markdown",
   "metadata": {},
   "source": [
    "It allows the CPU to respond to high-priority events in real-time without constantly polling devices, which saves processing time and resources."
   ]
  },
  {
   "cell_type": "markdown",
   "metadata": {},
   "source": [
    "Interrupts enable the system to quickly react to external events (like user inputs or sensor signals), improving user interaction and system performance."
   ]
  },
  {
   "cell_type": "markdown",
   "metadata": {},
   "source": [
    "Interrupts help in managing resources more effectively by prioritizing tasks based on urgency, thus optimizing overall system performance."
   ]
  },
  {
   "cell_type": "markdown",
   "metadata": {},
   "source": [
    "\n",
    "2.2 \n",
    "---\n",
    "Explain what is an interrupt vector.\n"
   ]
  },
  {
   "cell_type": "markdown",
   "metadata": {},
   "source": [
    "CPU uses an interrupt vector table, a fixed memory address array, to find the corresponding interrupt service routine (ISR) for the event"
   ]
  },
  {
   "cell_type": "markdown",
   "metadata": {},
   "source": [
    "\n",
    "2.3 \n",
    "---\n",
    "Why does an interrupt service routine (ISR) need to save all register it uses including SREG?\n"
   ]
  },
  {
   "cell_type": "markdown",
   "metadata": {},
   "source": [
    "so that it can restore the computer to the correct state after the ISR has ben done. this is to ensure that the main program can resume execution correctly after the ISR has finished."
   ]
  },
  {
   "cell_type": "markdown",
   "metadata": {},
   "source": [
    "\n",
    "2.4 \n",
    "---\n",
    "Write an ISR for TIMER2_COMPB event so that a two-byte integer at memory location 0x0200 (low byte)<br>\n",
    "and 0x0201 (high byte) will be increased by one every time the ISR is invoked. Please give both C and assembly code."
   ]
  },
  {
   "cell_type": "code",
   "execution_count": null,
   "metadata": {
    "vscode": {
     "languageId": "plaintext"
    }
   },
   "outputs": [],
   "source": [
    " \n",
    "push R20 \n",
    "IN R20, SREG\n",
    "PUSH R20 \n",
    "\n",
    "PUSH R21 \n",
    "PUSH R22 \n",
    ";; load stuff IN\n",
    "LDS R21 0x200 \n",
    "LDS R22 0x201 \n",
    "\n",
    ";;Add 1 to R21 \n",
    "INC R21\n",
    "BRCC NOFLOW\n",
    "\n",
    "if r21 overflows,then add one to R22 \n",
    "INC R22\n",
    "rjmp FLOW\n",
    "\n",
    "NOFLOW:\n",
    ";;store R21 back \n",
    "STS 0x200 , R21\n",
    "rjmp OUT\n",
    "\n",
    "FLOW:\n",
    ";;store R22 to memory \n",
    "STS 0x201 , R22\n",
    "rjmp OUT\n",
    "\n",
    "\n",
    "OUT:\n",
    "pop R22 \n",
    "pop R21 \n",
    "pop R20 \n",
    "OUT SREG, R20\n",
    "pop r20\n"
   ]
  },
  {
   "cell_type": "code",
   "execution_count": null,
   "metadata": {
    "vscode": {
     "languageId": "shellscript"
    }
   },
   "outputs": [],
   "source": [
    "\n",
    "\n",
    "ISR(TIMER2_COMPB){\n",
    "    int *x = 0x200; \n",
    "    *x++;\n",
    "}"
   ]
  }
 ],
 "metadata": {
  "language_info": {
   "name": "python"
  }
 },
 "nbformat": 4,
 "nbformat_minor": 2
}
