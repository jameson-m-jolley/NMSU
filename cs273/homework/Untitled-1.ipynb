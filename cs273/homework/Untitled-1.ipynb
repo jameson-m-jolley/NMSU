{
 "cells": [
  {
   "cell_type": "markdown",
   "metadata": {},
   "source": [
    "<h4>\n",
    "<pre>\n",
    "name: Jameson Jolley\n",
    "Date: wed Oct 30th 2024\n",
    "Class: cs273\n",
    "Assignment: HW7 ROTATE, MASKING, Analog Digital \n",
    "\n",
    "</pre>\n",
    "</h4>"
   ]
  },
  {
   "cell_type": "markdown",
   "metadata": {},
   "source": [
    "---"
   ]
  },
  {
   "cell_type": "markdown",
   "metadata": {},
   "source": [
    "<h4>\n",
    "<pre>\n",
    "1. Use logical and/or arithmetic rotation/shift instructions to divide the 32-bit signed number saved \n",
    "in R19, R18, R17, R16 (high byte first) by 2^7.  We assume that R19 contains the most significant byte and \n",
    "R16 contains the least significant byte.  Save the result in the same registers.\n",
    "</pre>\n",
    "</h4>"
   ]
  },
  {
   "cell_type": "code",
   "execution_count": null,
   "metadata": {},
   "outputs": [],
   "source": [
    "L1: LDI R20, 7\n",
    "\n",
    "ASR R19\n",
    "ROR R18\n",
    "ROR R17\n",
    "ROR R16\n",
    "\n",
    "DEC R20\n",
    "BRNE L1"
   ]
  },
  {
   "cell_type": "markdown",
   "metadata": {},
   "source": [
    "---"
   ]
  },
  {
   "cell_type": "markdown",
   "metadata": {},
   "source": [
    "<h4><pre>\n",
    "2. Find the contents of R20 after each of the following is executed:\n",
    "\n",
    "LDI R20, 0x8A\n",
    "\n",
    "CLC\n",
    "\n",
    "ROR R20\n",
    "\n",
    "ASR R20\n",
    "</pre></h4>"
   ]
  },
  {
   "cell_type": "code",
   "execution_count": null,
   "metadata": {},
   "outputs": [],
   "source": [
    "\n",
    "LDI R20, 0x8A // r20 := 0b10001010\n",
    "CLC           // carry flag get set to 0\n",
    "ROR R20       // r20 := 0b01000101 , c := 0\n",
    "ASR R20       // r20 := 0b00100010\n"
   ]
  },
  {
   "cell_type": "markdown",
   "metadata": {},
   "source": [
    "r20 = 0x22"
   ]
  },
  {
   "cell_type": "markdown",
   "metadata": {},
   "source": [
    "---"
   ]
  },
  {
   "cell_type": "markdown",
   "metadata": {},
   "source": [
    "<h4><pre>\n",
    "3. Write a program to test if the pattern “1010” exists in an 8-bit input binary number. Please use shift instructions.\n",
    "</pre></h4>\n"
   ]
  },
  {
   "cell_type": "code",
   "execution_count": null,
   "metadata": {},
   "outputs": [],
   "source": [
    "\n",
    "LDI r16 0b0000-1010\n",
    "LDI R18 0b//some number\n",
    "LDI r20, 7 \n",
    "\n",
    "LOOP: // start of a loop\n",
    "    MOV R19 , R18\n",
    "    ANDi R19, 0x0F // removing the upper half\n",
    "    LSR R18 //shifting to the right\n",
    "    cp R19, R16 // check for the correct paddern\n",
    "    BRNE Found \n",
    "\n",
    "    DEC R20\n",
    "    BRNE LOOP\n",
    "\n",
    "notFound:\n",
    "    STS val, 0 // sotre the val false\n",
    "    ret \n",
    "\n",
    "Found:\n",
    "    STS val, 1 // sotre the val True\n",
    "    ret"
   ]
  },
  {
   "cell_type": "markdown",
   "metadata": {},
   "source": [
    "---"
   ]
  },
  {
   "cell_type": "markdown",
   "metadata": {},
   "source": [
    "\n",
    "<h4><pre>\n",
    "4. Calculate the step sizes of ADC using the following number of bits with Vref=32V. \n",
    "\n",
    "     2-bit: 8\n",
    "     8-bit: 0.125\n",
    "     16-bit: 0.0005\n",
    " </pre></h4>\n"
   ]
  },
  {
   "cell_type": "code",
   "execution_count": 45,
   "metadata": {},
   "outputs": [
    {
     "data": {
      "text/plain": [
       "stepsize (generic function with 1 method)"
      ]
     },
     "metadata": {},
     "output_type": "display_data"
    }
   ],
   "source": [
    "Vref=32\n",
    "# this is the method of calulating the step size \n",
    "function stepsize(vref,bits)\n",
    "    return vref/bits\n",
    "end"
   ]
  },
  {
   "cell_type": "code",
   "execution_count": 46,
   "metadata": {},
   "outputs": [
    {
     "data": {
      "text/plain": [
       "8.0"
      ]
     },
     "metadata": {},
     "output_type": "display_data"
    }
   ],
   "source": [
    "\n",
    "#   2-bit:\n",
    "stepsize(Vref,2^2)"
   ]
  },
  {
   "cell_type": "code",
   "execution_count": 47,
   "metadata": {},
   "outputs": [
    {
     "data": {
      "text/plain": [
       "0.125"
      ]
     },
     "metadata": {},
     "output_type": "display_data"
    }
   ],
   "source": [
    "#   8-bit:\n",
    "stepsize(Vref,2^8)"
   ]
  },
  {
   "cell_type": "code",
   "execution_count": 48,
   "metadata": {},
   "outputs": [
    {
     "data": {
      "text/plain": [
       "0.00048828125"
      ]
     },
     "metadata": {},
     "output_type": "display_data"
    }
   ],
   "source": [
    "#   16-bit:\n",
    "stepsize(Vref,2^16)"
   ]
  },
  {
   "cell_type": "markdown",
   "metadata": {},
   "source": [
    "---"
   ]
  },
  {
   "cell_type": "markdown",
   "metadata": {},
   "source": [
    "<h4> \n",
    "<pre>\n",
    "5. With Vref=25.6V and 10 bit ADC, find Vin for the following outputs: \n",
    "\n",
    "    Dout = 215\n",
    "    Dout = 84\n",
    "    Dout = 233\n",
    " </pre>\n",
    "</h4>"
   ]
  },
  {
   "cell_type": "code",
   "execution_count": 49,
   "metadata": {},
   "outputs": [
    {
     "data": {
      "text/plain": [
       "Vin (generic function with 1 method)"
      ]
     },
     "metadata": {},
     "output_type": "display_data"
    }
   ],
   "source": [
    "function Vin(Vref,bits,Dout)\n",
    "    return (Dout/bits)* Vref  \n",
    "end"
   ]
  },
  {
   "cell_type": "code",
   "execution_count": 50,
   "metadata": {},
   "outputs": [
    {
     "data": {
      "text/plain": [
       "5.375"
      ]
     },
     "metadata": {},
     "output_type": "display_data"
    }
   ],
   "source": [
    "#lower bound\n",
    "Vin(25.6,2^10,215)"
   ]
  },
  {
   "cell_type": "code",
   "execution_count": 51,
   "metadata": {},
   "outputs": [
    {
     "data": {
      "text/plain": [
       "5.4"
      ]
     },
     "metadata": {},
     "output_type": "display_data"
    }
   ],
   "source": [
    "#upper bound\n",
    "Vin(25.6,2^10,216)"
   ]
  },
  {
   "cell_type": "markdown",
   "metadata": {},
   "source": [
    "Dout = 215 on $[5.375,5.4)$   "
   ]
  },
  {
   "cell_type": "code",
   "execution_count": 52,
   "metadata": {},
   "outputs": [
    {
     "data": {
      "text/plain": [
       "2.1"
      ]
     },
     "metadata": {},
     "output_type": "display_data"
    }
   ],
   "source": [
    "#lower bound\n",
    "Vin(25.6,2^10,84)"
   ]
  },
  {
   "cell_type": "code",
   "execution_count": 53,
   "metadata": {},
   "outputs": [
    {
     "data": {
      "text/plain": [
       "2.125"
      ]
     },
     "metadata": {},
     "output_type": "display_data"
    }
   ],
   "source": [
    "#upper bound\n",
    "Vin(25.6,2^10,85)"
   ]
  },
  {
   "cell_type": "markdown",
   "metadata": {},
   "source": [
    "Dout = 84 on $[2.1,2.125)$"
   ]
  },
  {
   "cell_type": "code",
   "execution_count": 54,
   "metadata": {},
   "outputs": [
    {
     "data": {
      "text/plain": [
       "5.825"
      ]
     },
     "metadata": {},
     "output_type": "display_data"
    }
   ],
   "source": [
    "#lower bound\n",
    "Vin(25.6,2^10,233)"
   ]
  },
  {
   "cell_type": "code",
   "execution_count": 55,
   "metadata": {},
   "outputs": [
    {
     "data": {
      "text/plain": [
       "5.8500000000000005"
      ]
     },
     "metadata": {},
     "output_type": "display_data"
    }
   ],
   "source": [
    "#upper bound\n",
    "Vin(25.6,2^10,234)"
   ]
  },
  {
   "cell_type": "markdown",
   "metadata": {},
   "source": [
    "Dout = 233 on $[ 5.825 , 5.8500000000000005)$"
   ]
  },
  {
   "cell_type": "markdown",
   "metadata": {},
   "source": [
    "---"
   ]
  },
  {
   "cell_type": "markdown",
   "metadata": {},
   "source": [
    "<h4> \n",
    "<pre>\n",
    "6. For the 10-bit ADC in ATmega328p, find the step size for each of the following Vref:\n",
    "\n",
    "    25 mV\n",
    "    4096 mV\n",
    "    50 V\n",
    "\n",
    " </pre></h4>"
   ]
  },
  {
   "cell_type": "code",
   "execution_count": 56,
   "metadata": {},
   "outputs": [
    {
     "data": {
      "text/plain": [
       "0.0244140625"
      ]
     },
     "metadata": {},
     "output_type": "display_data"
    }
   ],
   "source": [
    "#we can keep this in mv\n",
    "stepsize(25,2^10)"
   ]
  },
  {
   "cell_type": "markdown",
   "metadata": {},
   "source": [
    "    25 mV = 0.0244140625 mv "
   ]
  },
  {
   "cell_type": "code",
   "execution_count": 57,
   "metadata": {},
   "outputs": [
    {
     "data": {
      "text/plain": [
       "0.004"
      ]
     },
     "metadata": {},
     "output_type": "display_data"
    }
   ],
   "source": [
    "#4096mv is 4.096v\n",
    "stepsize(4.096,2^10)"
   ]
  },
  {
   "cell_type": "markdown",
   "metadata": {},
   "source": [
    "    4096 mV = 0.004 v"
   ]
  },
  {
   "cell_type": "code",
   "execution_count": 58,
   "metadata": {},
   "outputs": [
    {
     "data": {
      "text/plain": [
       "0.048828125"
      ]
     },
     "metadata": {},
     "output_type": "display_data"
    }
   ],
   "source": [
    "# we can keep this the same\n",
    "stepsize(50,2^10)"
   ]
  },
  {
   "cell_type": "markdown",
   "metadata": {},
   "source": [
    "  50 V = 0.0488v"
   ]
  },
  {
   "cell_type": "markdown",
   "metadata": {},
   "source": []
  }
 ],
 "metadata": {
  "kernelspec": {
   "display_name": "Julia 1.10.4",
   "language": "julia",
   "name": "julia-1.10"
  },
  "language_info": {
   "file_extension": ".jl",
   "mimetype": "application/julia",
   "name": "julia",
   "version": "1.10.4"
  }
 },
 "nbformat": 4,
 "nbformat_minor": 2
}
