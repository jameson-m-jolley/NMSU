{
 "cells": [
  {
   "cell_type": "markdown",
   "metadata": {},
   "source": [
    "HW12 -- simple Floating Point\n",
    "---"
   ]
  },
  {
   "cell_type": "markdown",
   "metadata": {},
   "source": [
    "na1e: jameson jolley"
   ]
  },
  {
   "cell_type": "markdown",
   "metadata": {},
   "source": [
    "1 Describe the representation of IEEE single precision floating point numbers.\n",
    "---"
   ]
  },
  {
   "cell_type": "markdown",
   "metadata": {},
   "source": [
    "<pre>\n",
    "In single precision the IEEE format has 1 sign bit, 8 exponent bits, and 23 mantissa bits, in that order\n",
    "from left to right \n",
    "like this:\n",
    "seeeeeeeemmmmmmmmmmmmmmmmmmmmmm\n",
    "\n",
    "It gives us almost 16 decimal digits of precision, and magnitudes from 10^-308 to 10^308\n",
    "\n",
    "</pre>"
   ]
  },
  {
   "cell_type": "markdown",
   "metadata": {},
   "source": [
    "2 How many different single precision numbers are represented with the IEEE standard?\n",
    "---"
   ]
  },
  {
   "cell_type": "markdown",
   "metadata": {},
   "source": [
    "2^32 = 4,294,967,296 different single precision numbers"
   ]
  },
  {
   "cell_type": "markdown",
   "metadata": {},
   "source": [
    "3 What is the largest single precision number? \n",
    "---"
   ]
  },
  {
   "cell_type": "markdown",
   "metadata": {},
   "source": [
    "<pre>\n",
    "Value = s * 1.mmmmmmmmmmmmmmmmmmmmmmm * 2 ^ (eeeeeeee - 127)\n",
    "\n",
    "1.2^(23) *2^(2(8)-127)\n",
    "1.|0b11111111111111111111111| * 2 ^ (127)\n",
    "1.(1 + 1/2 + 1/4 + ... + 1/2^23)* 2 (127) \n",
    "\n",
    "so about 3.4028235677973366e+38\n",
    "</pre>"
   ]
  },
  {
   "cell_type": "markdown",
   "metadata": {},
   "source": [
    "4 What is the smallest single precision number?\n",
    "---"
   ]
  },
  {
   "cell_type": "markdown",
   "metadata": {},
   "source": [
    "1.(0b00000000000000000000001) * 2 ^ (-126) "
   ]
  },
  {
   "cell_type": "code",
   "execution_count": 18,
   "metadata": {},
   "outputs": [
    {
     "data": {
      "text/plain": [
       "1.401298464324817e-45"
      ]
     },
     "metadata": {},
     "output_type": "display_data"
    }
   ],
   "source": [
    "1/(2^(23))*2^(-126)"
   ]
  },
  {
   "cell_type": "markdown",
   "metadata": {},
   "source": [
    "5 What single precision numbers have the smallest non-zero absolute value?\n",
    "---"
   ]
  },
  {
   "cell_type": "markdown",
   "metadata": {},
   "source": [
    "1.(0b00000000000000000000001) * 2 ^ (-126) // same as above "
   ]
  },
  {
   "cell_type": "code",
   "execution_count": 17,
   "metadata": {},
   "outputs": [
    {
     "data": {
      "text/plain": [
       "1.401298464324817e-45"
      ]
     },
     "metadata": {},
     "output_type": "display_data"
    }
   ],
   "source": [
    "1/(2^(23))*2^(-126)"
   ]
  },
  {
   "cell_type": "markdown",
   "metadata": {},
   "source": [
    "6 Explain why the highest precision occurs around the value of 1 (and -1)?\n",
    "---"
   ]
  },
  {
   "cell_type": "markdown",
   "metadata": {},
   "source": [
    "Because we can represent more fractional numbers in that range. as the exponents grow so does the inaccuracy this is the mantissa if multiplied by one can represent a large range of numbers when we increase that number the range becomes more spread out"
   ]
  }
 ],
 "metadata": {
  "kernelspec": {
   "display_name": "Julia 1.10.4",
   "language": "julia",
   "name": "julia-1.10"
  },
  "language_info": {
   "file_extension": ".jl",
   "mimetype": "application/julia",
   "name": "julia",
   "version": "1.10.4"
  }
 },
 "nbformat": 4,
 "nbformat_minor": 2
}
