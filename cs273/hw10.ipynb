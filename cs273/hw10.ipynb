{
 "cells": [
  {
   "cell_type": "markdown",
   "metadata": {},
   "source": [
    "1\n",
    "---\n",
    " If the input clock source operates at 16 MHz, what is the TCNT1 value needed to generate a time delay of 0.5 millisecond in normal mode?\n",
    "\n"
   ]
  },
  {
   "cell_type": "markdown",
   "metadata": {},
   "source": [
    "frist we find the time one clock cycle takes "
   ]
  },
  {
   "cell_type": "code",
   "execution_count": 40,
   "metadata": {},
   "outputs": [
    {
     "data": {
      "text/plain": [
       "6.25e-8"
      ]
     },
     "metadata": {},
     "output_type": "display_data"
    }
   ],
   "source": [
    "oneCycleTime = 1/16000000"
   ]
  },
  {
   "cell_type": "markdown",
   "metadata": {},
   "source": [
    "we then find how time in seconds"
   ]
  },
  {
   "cell_type": "code",
   "execution_count": 28,
   "metadata": {},
   "outputs": [
    {
     "data": {
      "text/plain": [
       "0.0005"
      ]
     },
     "metadata": {},
     "output_type": "display_data"
    }
   ],
   "source": [
    "time = 0.5/1000"
   ]
  },
  {
   "cell_type": "markdown",
   "metadata": {},
   "source": [
    "we then divide to get the # of clock cycles "
   ]
  },
  {
   "cell_type": "code",
   "execution_count": 41,
   "metadata": {},
   "outputs": [
    {
     "data": {
      "text/plain": [
       "8000.000000000001"
      ]
     },
     "metadata": {},
     "output_type": "display_data"
    }
   ],
   "source": [
    "time / oneCycleTime"
   ]
  },
  {
   "cell_type": "markdown",
   "metadata": {},
   "source": [
    "we then subtract that from the max number in the counter witch is 2^16"
   ]
  },
  {
   "cell_type": "code",
   "execution_count": 43,
   "metadata": {},
   "outputs": [
    {
     "data": {
      "text/plain": [
       "57536"
      ]
     },
     "metadata": {},
     "output_type": "display_data"
    }
   ],
   "source": [
    "2^16 - 8000"
   ]
  },
  {
   "cell_type": "markdown",
   "metadata": {},
   "source": [
    "we then need to find the hex number that this is so that we can load it into the TCNT1"
   ]
  },
  {
   "cell_type": "code",
   "execution_count": null,
   "metadata": {},
   "outputs": [
    {
     "data": {
      "text/plain": [
       "14.046875"
      ]
     },
     "metadata": {},
     "output_type": "display_data"
    }
   ],
   "source": [
    "57536 / 16 / 16 / 16 # e"
   ]
  },
  {
   "cell_type": "code",
   "execution_count": null,
   "metadata": {},
   "outputs": [
    {
     "data": {
      "text/plain": [
       "0.75"
      ]
     },
     "metadata": {},
     "output_type": "display_data"
    }
   ],
   "source": [
    "(57536 / 16 / 16 / 16 - 14) * 16 # 0"
   ]
  },
  {
   "cell_type": "code",
   "execution_count": null,
   "metadata": {},
   "outputs": [
    {
     "data": {
      "text/plain": [
       "12.0"
      ]
     },
     "metadata": {},
     "output_type": "display_data"
    }
   ],
   "source": [
    "(57536 / 16 / 16 / 16 - 14 - 0) * 16^2 # c"
   ]
  },
  {
   "cell_type": "markdown",
   "metadata": {},
   "source": [
    "0xE0C0 is the answer "
   ]
  },
  {
   "cell_type": "markdown",
   "metadata": {},
   "source": [
    "2\n",
    "---\n",
    " If the clock operates at 10 MHz, what is the OCR0 value needed to generate time delay of 4 microseconds in CTC mode without any prescaler."
   ]
  },
  {
   "cell_type": "markdown",
   "metadata": {},
   "source": [
    "we can make a method that dose this"
   ]
  },
  {
   "cell_type": "code",
   "execution_count": 62,
   "metadata": {},
   "outputs": [
    {
     "data": {
      "text/plain": [
       "\"0x27\""
      ]
     },
     "metadata": {},
     "output_type": "display_data"
    }
   ],
   "source": [
    "# fn takes time in seconds and nuber of cycels in Hz \n",
    "\n",
    "function ocr0(t, Hz)\n",
    "    return t/(1/Hz)-1\n",
    "end\n",
    "\n",
    "\n",
    "function int_to_hex(n::Int)\n",
    "    return \"0x\" * string(n, base=16)\n",
    "end\n",
    "\n",
    "int_to_hex(Int(ocr0(4/10^6,10*10^6)))"
   ]
  },
  {
   "cell_type": "code",
   "execution_count": 63,
   "metadata": {},
   "outputs": [
    {
     "data": {
      "text/plain": [
       "39.0"
      ]
     },
     "metadata": {},
     "output_type": "display_data"
    }
   ],
   "source": [
    "ocr0(4/10^6,10*10^6)"
   ]
  },
  {
   "cell_type": "markdown",
   "metadata": {},
   "source": [
    "the answer is 0x27"
   ]
  },
  {
   "cell_type": "markdown",
   "metadata": {},
   "source": [
    "3\n",
    "---\n",
    "Write an assembly program for Timer1 to generate a square wave of 16000 Hz to output on PB3 using a clock frequency of 16 MHz.\n",
    "\n",
    " \n"
   ]
  },
  {
   "cell_type": "markdown",
   "metadata": {},
   "source": [
    "we need to be on or off for half of the HZ "
   ]
  },
  {
   "cell_type": "code",
   "execution_count": 60,
   "metadata": {},
   "outputs": [
    {
     "data": {
      "text/plain": [
       "8000.0"
      ]
     },
     "metadata": {},
     "output_type": "display_data"
    }
   ],
   "source": [
    "16000/2"
   ]
  },
  {
   "cell_type": "code",
   "execution_count": 76,
   "metadata": {},
   "outputs": [
    {
     "data": {
      "text/plain": [
       "\"0xe0c0\""
      ]
     },
     "metadata": {},
     "output_type": "display_data"
    }
   ],
   "source": [
    "int_to_hex((2^16)-8000)"
   ]
  },
  {
   "cell_type": "markdown",
   "metadata": {},
   "source": [
    "we cant put \"0x1f40\" in OCR0\n",
    "so what we can do is with TCNT1"
   ]
  },
  {
   "cell_type": "markdown",
   "metadata": {},
   "source": [
    "\n",
    "\n",
    "\n",
    "<pre>\n",
    ".text\n",
    ".global square \n",
    "\n",
    "square:\n",
    "push r16\n",
    "push r17\n",
    "\n",
    "BEGIN:\n",
    "    SBI PORTB,3 ;PB5 = 1\n",
    "    RCALL DELAY\n",
    "    CBI PORTB,3 ;PB5 = 0\n",
    "    RCALL DELAY\n",
    "    RJMP BEGIN\n",
    "\n",
    "\n",
    "\n",
    "DELAY:\n",
    "; Load 16-bit value (0xe0c0) into TCNT1\n",
    "    LDI R16, LOW(0xe0c0) ; Load low byte of value into R16\n",
    "    LDI R17, HIGH(0xe0c0) ; Load high byte of value into R17\n",
    "    OUT TCNT1L, R16 ; Write low byte to TCNT1L\n",
    "    OUT TCNT1H, R17 ; Write high byte to TCNT1H\n",
    "    LDI r16, 0\n",
    "    OUT TCCR1A,R16 ;WGM11:10=00\n",
    "    LDI r16 ,0x01\n",
    "    OUT TCCR1B,R16 ;WGM13:12=00,CS=CLK normal mode \n",
    "again:\n",
    "    IN r16, TIFR1\n",
    "    SBRS R16,TOV1\n",
    "    rjump again\n",
    "    LDI R20,  1 << TOV1 \n",
    "    OUT TIFR1,R20 ;clear TOV1 flag\n",
    "    LDI R17,0\n",
    "    OUT TCCR1B,R17 ;stop timer\n",
    "    OUT TCCR1A,R17 ;\n",
    "ret \n",
    "\n",
    "pop r17\n",
    "pop r16\n",
    "ret\n",
    "\n",
    "</pre>"
   ]
  },
  {
   "cell_type": "markdown",
   "metadata": {},
   "source": [
    "4\n",
    "---\n",
    "What is the advantage of using falling/rising edges instead of high/low voltages to detect events?"
   ]
  },
  {
   "cell_type": "markdown",
   "metadata": {},
   "source": [
    "We are detecting when the voltage changes rather than the state of the voltage if we need to trigger one interrupt this could be useful because, if the voltage is low then the interrupt will only happen once, otherwise if we need to continuously interrupt the system then the voltage would be better "
   ]
  },
  {
   "cell_type": "markdown",
   "metadata": {},
   "source": [
    "5\n",
    "---\n",
    "What is the signal the following code generates at PORTB pin 5? If it is a periodical signal, what is its period? The clock frequency is 16MHz. "
   ]
  },
  {
   "cell_type": "markdown",
   "metadata": {},
   "source": [
    "<pre>\n",
    "  LDI  R16,0x20  \n",
    "\n",
    "  SBI  DDRB,5  \n",
    "\n",
    "  LDI  R17,0  \n",
    "\n",
    "  OUT  PORTB,R17  ; turns off led \n",
    "\n",
    "  LDI  R20,0x00\n",
    "\n",
    "  OUT  TCCR0A,R20\n",
    "\n",
    "BEGIN:  LDI  R20,0x3B ; set counter to 59\n",
    "\n",
    "  OUT  TCNT0,R20 ; write 59 into the counter\n",
    "\n",
    "  LDI  R20,0x01\n",
    "\n",
    "  OUT  TCCR0B,R20 ;trun on the counter 0 normal mode \n",
    "\n",
    "AGAIN:  IN  R20,TIFR0\n",
    "\n",
    "  SBRS  R20,0\n",
    "\n",
    "  RJMP  AGAIN      ; run for 59 - 256 = 195 clocks \n",
    "\n",
    "  LDI  R20,0x0  \n",
    "\n",
    "  OUT  TCCR0B,R20\n",
    "\n",
    "  LDI  R20,0x01\n",
    "\n",
    "  OUT  TIFR0,R20\n",
    "\n",
    "  EOR  R17,R16\n",
    "\n",
    "  OUT  PORTB,R17\n",
    "\n",
    "  RJMP   BEGIN  \n",
    "  </pre>"
   ]
  },
  {
   "cell_type": "markdown",
   "metadata": {},
   "source": [
    "<pre>\n",
    "4 clock \n",
    "then 195 \n",
    "then 8 clocks\n",
    "\n",
    "So it alternates for about 207 clocks. \n",
    "\n",
    "On and off it is 414 clocks\n",
    "\n",
    "\n",
    "so the speed is 16MHz /417\n",
    "</pre> "
   ]
  },
  {
   "cell_type": "code",
   "execution_count": 77,
   "metadata": {},
   "outputs": [
    {
     "data": {
      "text/plain": [
       "38369.30455635492"
      ]
     },
     "metadata": {},
     "output_type": "display_data"
    }
   ],
   "source": [
    "16000000/417"
   ]
  },
  {
   "cell_type": "markdown",
   "metadata": {},
   "source": [
    "the answer is $38.36930455635492$ KHz"
   ]
  }
 ],
 "metadata": {
  "kernelspec": {
   "display_name": "Julia 1.10.4",
   "language": "julia",
   "name": "julia-1.10"
  },
  "language_info": {
   "file_extension": ".jl",
   "mimetype": "application/julia",
   "name": "julia",
   "version": "1.10.4"
  }
 },
 "nbformat": 4,
 "nbformat_minor": 2
}
