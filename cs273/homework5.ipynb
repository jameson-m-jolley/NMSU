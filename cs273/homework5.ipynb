{
 "cells": [
  {
   "cell_type": "markdown",
   "metadata": {},
   "source": [
    "1. What is the consequence if a computer architecture does not have a status register like the one in AVR?\n",
    "    you would half to keep track of the status of the arithmetic manually\n",
    "    this would mean that a general purpose register would half to take care of this or the information will be lost"
   ]
  },
  {
   "cell_type": "markdown",
   "metadata": {},
   "source": [
    "2. Determine the C, Z, V, S, N flags of the status after the following instructions:"
   ]
  },
  {
   "cell_type": "markdown",
   "metadata": {},
   "source": [
    "\n",
    "<pre>\n",
    "1) LDI R18, 25\n",
    "   CPI R18, 0x25\n",
    "\n",
    "   this is the same as saying r18 - 0x25 \n",
    "   </pre>"
   ]
  },
  {
   "cell_type": "code",
   "execution_count": 6,
   "metadata": {},
   "outputs": [
    {
     "data": {
      "text/plain": [
       "-12"
      ]
     },
     "metadata": {},
     "output_type": "display_data"
    }
   ],
   "source": [
    "r18 = 25\n",
    "cpiv = (2*16 + 5)\n",
    "val = r18 - cpiv\n"
   ]
  },
  {
   "cell_type": "markdown",
   "metadata": {},
   "source": [
    "25 in base 2 is 0001 1001\n",
    "0x25 in base 2 is 0010 - 0101\n",
    "\n",
    "takeing 2s complament of 0x25 is \n",
    "1101-1011\n",
    "<pre>\n",
    "now we get \n",
    "11111  11\n",
    " 0010-1001\n",
    "+1101-1011\n",
    "__________\n",
    "10000 0100\n",
    " \n",
    " 1111-0100\n",
    " 0000-1011\n",
    " 0000-1100\n",
    "\n",
    "N: 1 \n",
    "Z: 0 \n",
    "H: 1 \n",
    "C: 0 \n",
    "V: 0 \n",
    "S:  n xor v = 1 \n",
    "</pre>\n"
   ]
  },
  {
   "cell_type": "markdown",
   "metadata": {},
   "source": [
    "\n",
    "<pre>\n",
    "2) LDI R18, 25 \n",
    "    LDI R19, 240 \n",
    "    ADD R18, R19\n",
    "    </pre>"
   ]
  },
  {
   "cell_type": "code",
   "execution_count": 7,
   "metadata": {},
   "outputs": [
    {
     "data": {
      "text/plain": [
       "265"
      ]
     },
     "metadata": {},
     "output_type": "display_data"
    }
   ],
   "source": [
    "r18 =25\n",
    "r19 =240\n",
    "res = r18 + r19"
   ]
  },
  {
   "cell_type": "markdown",
   "metadata": {},
   "source": [
    "<pre>\n",
    "1111 \n",
    " 0001-1001\n",
    "+1111-0000\n",
    " 0000-1001\n",
    "\n",
    " this is an overflow\n",
    "\n",
    "N: 1 \n",
    "Z: 0 \n",
    "H: 0\n",
    "C: 1 \n",
    "V: 1 \n",
    "S: n xor v = 0\n",
    "</pre>\n",
    "256 is the max unsinged number 8 bits can hold "
   ]
  },
  {
   "cell_type": "markdown",
   "metadata": {},
   "source": [
    "3. Determine the value of R1 and R0 after the following multiplications"
   ]
  },
  {
   "cell_type": "markdown",
   "metadata": {},
   "source": [
    "<pre>\n",
    "1) LDI R20, -1\n",
    "    LDI R21 -5,\n",
    "    MUL R20, R21\n",
    "</pre>"
   ]
  },
  {
   "cell_type": "code",
   "execution_count": 33,
   "metadata": {},
   "outputs": [
    {
     "name": "stdout",
     "output_type": "stream",
     "text": [
      "value is 5\n",
      "val / (16 ^ 3) = 0.001220703125\n",
      "0.0\n",
      "0.0\n",
      "0.0\n",
      "5.0\n"
     ]
    }
   ],
   "source": [
    "## we can do this in code. this is julia and this just implements the algorithm you tought us in class\n",
    "r20= -1\n",
    "r21= -5\n",
    "\n",
    "## find val and devide by 16^3\n",
    "function findval(op1, op2)\n",
    "    res = op1 * op2\n",
    "    print(\"value is \")\n",
    "    println(res)\n",
    "    \n",
    "    res = res / (16 ^ 3)\n",
    "    print(\"val / (16 ^ 3) = \")\n",
    "    println(res)\n",
    "    while res != 0 \n",
    "        println(floor(res)) \n",
    "        res = res - floor(res)\n",
    "        res = res * 16\n",
    "    end\n",
    "end\n",
    "\n",
    "findval(r20,r21)"
   ]
  },
  {
   "cell_type": "markdown",
   "metadata": {},
   "source": [
    "so r0 = 0x00 r1 = 0x05"
   ]
  },
  {
   "cell_type": "markdown",
   "metadata": {},
   "source": [
    "<pre>\n",
    "2) LDI R20, 128\n",
    "    LDI R21, 255\n",
    "    MULS R20, R21\n",
    "    </pre>"
   ]
  },
  {
   "cell_type": "code",
   "execution_count": 34,
   "metadata": {},
   "outputs": [
    {
     "name": "stdout",
     "output_type": "stream",
     "text": [
      "value is 32640\n",
      "val / (16 ^ 3) = 7.96875\n",
      "7.0\n",
      "15.0\n",
      "8.0\n"
     ]
    }
   ],
   "source": [
    "findval(128,255)"
   ]
  },
  {
   "cell_type": "markdown",
   "metadata": {},
   "source": [
    "so the hex val is 0x7f80\n",
    "r0= 0x7f\n",
    "r1= 0x80\n"
   ]
  },
  {
   "cell_type": "markdown",
   "metadata": {},
   "source": [
    "<pre>\n",
    "3) LDI R20, 135\n",
    "    LDI R21, -10\n",
    "    MULSU R20, R21\n",
    "    </pre>"
   ]
  },
  {
   "cell_type": "code",
   "execution_count": 35,
   "metadata": {},
   "outputs": [
    {
     "name": "stdout",
     "output_type": "stream",
     "text": [
      "value is -1350\n",
      "val / (16 ^ 3) = -0.32958984375\n",
      "-1.0\n",
      "10.0\n",
      "11.0\n",
      "10.0\n"
     ]
    }
   ],
   "source": [
    "findval(135,-10)"
   ]
  },
  {
   "cell_type": "markdown",
   "metadata": {},
   "source": [
    "this one is tricky becaus of the -10 \n",
    "\n",
    "what is negative -1 in base 2 1111 wich is f so 0xfaba\n",
    "r0=0xfa\n",
    "r1=0xba\n"
   ]
  },
  {
   "cell_type": "markdown",
   "metadata": {},
   "source": [
    "4. Revise the unsigned integer division in class and write a program to take two signed numbers A / B and return the quotient and the remainder. "
   ]
  },
  {
   "cell_type": "markdown",
   "metadata": {
    "vscode": {
     "languageId": "raw"
    }
   },
   "source": [
    "<pre>\n",
    "r20 is the numorator or quotient\n",
    "r21 is the denominator\n",
    "r22 is the remander\n",
    "\n",
    "// we need to check if r20 is not negative\n",
    "    LDI r16 0 //loads 0 \n",
    "    CPI r20 0\n",
    "BRGE neg1:\n",
    "\n",
    "    // r20 is negative\n",
    "    LDI r16 1\n",
    "    NEG r20\n",
    "\n",
    "neg1: \n",
    "// r20 is negative\n",
    "    LDI r17 0\n",
    "    CPI r21 0\n",
    "\n",
    "BRGE neg2:\n",
    "\n",
    "\n",
    "neg2: \n",
    "//  denominator is negative\n",
    "    LDI r17 1\n",
    "    NEG R21\n",
    "\n",
    "//for posative stuff \n",
    "CLR R22 \n",
    "L1:   INC R22 \n",
    "SUB R20, R21 \n",
    "BRCC   L1 \n",
    " \n",
    "DEC R22   \n",
    "ADD R20, R21 \n",
    "\n",
    "// now we flip \n",
    "\n",
    " \n",
    "\n",
    "CPI R16, 0 \n",
    "BREQ PosNum: \n",
    "   // R16 is 1\n",
    "   // numerator was negative \n",
    "   CPI R17, 0 \n",
    "    BREQ PosDom: \n",
    "       //   R16 is 1 and R17 is 1 \n",
    "           NEG R20 \n",
    "           jmp out \n",
    "   PosDom:  // R16 is 1 and R17 is 0 \n",
    "      negate them both \n",
    "      NEG r22\n",
    "      NEG r20\n",
    "        jmp out \n",
    "\n",
    "PosNum:   // R16 is 0 \n",
    "CPI r17 0 \n",
    "BREQ altnegnum: \n",
    "// R16 is 0 and R17 is 0\n",
    "    jmp out \n",
    "altnegnum: // R16 is 0 and R17 is 1\n",
    "    NEG r22\n",
    "\n",
    "Out: \n",
    "</pre>"
   ]
  },
  {
   "cell_type": "markdown",
   "metadata": {},
   "source": [
    "5. Convert the following C code to assembly. Both x and y must be treated as signed numbers.\n",
    "int x＝5, y＝－5;\n",
    "if(x > y) {\n",
    "    y = x + 2;\n",
    "} else if (x > y - 3) {\n",
    "    y = x + 5\n",
    "} else {\n",
    "    y = x + 7\n",
    "}"
   ]
  },
  {
   "cell_type": "markdown",
   "metadata": {
    "vscode": {
     "languageId": "raw"
    }
   },
   "source": [
    "    ldi r16, 5                // Load immediate value 5 into register r16 (x)\n",
    "    ldi r17, -5               // Load immediate value -5 into register r17 (y)\n",
    "\n",
    "    // if (x > y)\n",
    "    cp r16, r17               // Compare x (r16) with y (r17)\n",
    "    brlt else_if1             // If x <= y, branch to else_if1\n",
    "\n",
    "    // y = x + 2\n",
    "    ldi r18, 2                \n",
    "    add r16, r18              // Add 2 to x (r16)\n",
    "    mov r17, r16              \n",
    "    rjmp end_if               // Jump to end_if\n",
    "\n",
    "else_if1:\n",
    "    // else if (x > y - 3)\n",
    "    ldi r19, -3               \n",
    "    add r17, r19              // Calculate y - 3\n",
    "    cp r16, r17               \n",
    "    brlt else_block           // If x <= (y - 3), branch to else_block\n",
    "\n",
    "    // y = x + 5\n",
    "    ldi r18, 5                \n",
    "    add r16, r18            \n",
    "    mov r17, r16          \n",
    "    rjmp end_if               \n",
    "\n",
    "else_block:\n",
    "    // y = x + 7\n",
    "    ldi r18, 7                \n",
    "    add r16, r18           \n",
    "    mov r17, r16              \n",
    "\n",
    "end_if: // end of program"
   ]
  }
 ],
 "metadata": {
  "kernelspec": {
   "display_name": "Julia 1.10.4",
   "language": "julia",
   "name": "julia-1.10"
  },
  "language_info": {
   "file_extension": ".jl",
   "mimetype": "application/julia",
   "name": "julia",
   "version": "1.10.4"
  }
 },
 "nbformat": 4,
 "nbformat_minor": 2
}
